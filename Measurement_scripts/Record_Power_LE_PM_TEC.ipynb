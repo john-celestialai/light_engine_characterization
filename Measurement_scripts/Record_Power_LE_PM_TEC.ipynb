{
 "cells": [
  {
   "cell_type": "markdown",
   "id": "2f610232-ae65-411f-b2d5-03325cc8aec2",
   "metadata": {
    "tags": []
   },
   "source": [
    "## Import Dependencies and Open Instrument Handles"
   ]
  },
  {
   "cell_type": "code",
   "execution_count": 44,
   "id": "f31cabd4-cb19-4125-932d-3f923cbeb3e2",
   "metadata": {
    "tags": []
   },
   "outputs": [],
   "source": [
    "import sys\n",
    "import os\n",
    "import time\n",
    "import pyvisa\n",
    "import pandas as pd\n",
    "import numpy as np\n",
    "import matplotlib.pyplot as plt\n",
    "from binascii import unhexlify\n",
    "import serial\n",
    "\n",
    "module_path = os.path.abspath(os.path.join('..'))\n",
    "if module_path not in sys.path:\n",
    "    sys.path.append(module_path+\"\\\\Drivers\")\n",
    "\n",
    "from Driver_TECSource_5240 import *\n",
    "from Driver_PM_PM5020 import *\n",
    "from Driver_LaserSource_71440108 import *"
   ]
  },
  {
   "cell_type": "code",
   "execution_count": 45,
   "id": "779d46df-23a3-437a-b3a1-ee6ba177d8db",
   "metadata": {
    "tags": []
   },
   "outputs": [],
   "source": [
    "rm = pyvisa.ResourceManager()\n",
    "\n",
    "tec = TECSource_5240()\n",
    "tec.open(rm)\n",
    "\n",
    "pm = PM_PM5020()\n",
    "pm.open(rm)\n",
    "\n",
    "ld = LaserSource_71440108()\n",
    "ld.open(rm)"
   ]
  },
  {
   "cell_type": "markdown",
   "id": "d6b00af2-b73b-4657-a97a-5bcac13315e2",
   "metadata": {
    "tags": []
   },
   "source": [
    "## Initialization"
   ]
  },
  {
   "cell_type": "code",
   "execution_count": 46,
   "id": "f6219648-6604-4673-a852-337df8dd4d4a",
   "metadata": {
    "tags": []
   },
   "outputs": [],
   "source": [
    "ld.set_laser_current(1,50)\n",
    "ld.set_laser_current(2,50)\n",
    "ld.set_laser_current(3,50)\n",
    "ld.set_laser_current(4,50)\n",
    "ld.set_output_on(2)\n",
    "#ld.set_output_on(3)\n",
    "#ld.set_output_on(4)"
   ]
  },
  {
   "cell_type": "code",
   "execution_count": 9,
   "id": "8e79e1a6-9f74-4b12-928f-29094bc6f3ed",
   "metadata": {
    "tags": []
   },
   "outputs": [],
   "source": [
    "T_Start = 23\n",
    "T_Stop = 50\n",
    "T_Step = 0.2\n",
    "t_wait = 5\n",
    "n = int((T_Stop-T_Start)/T_Step+1)\n",
    "pm.set_units(1,\"W\")"
   ]
  },
  {
   "cell_type": "markdown",
   "id": "8f15f4cc-8c08-42be-b778-244d04353bf4",
   "metadata": {},
   "source": [
    "## Measurement Routine (Steady State)"
   ]
  },
  {
   "cell_type": "code",
   "execution_count": 36,
   "id": "c778fb63-d012-47d8-8a0f-9cc4aaaf41a1",
   "metadata": {
    "tags": []
   },
   "outputs": [],
   "source": [
    "meas_df = pd.DataFrame()\n",
    "t0 = time.time()\n",
    "for k in range(0,480,1):\n",
    "    time.sleep(0.25)\n",
    "    T_read = tec.get_temperature()\n",
    "    Power_read = pm.get_power(1)\n",
    "    t_meas = time.time()-t0\n",
    "    dict = {'Time_s':t_meas,'Temperature_C':T_read ,\"Power_W\":Power_read}\n",
    "    meas_df_temp = pd.DataFrame([dict])\n",
    "    data = [meas_df_temp, meas_df]\n",
    "    meas_df = pd.concat(data,ignore_index=True,sort=False)"
   ]
  },
  {
   "cell_type": "markdown",
   "id": "f20cd387-6132-4162-8ab7-2cc2e23c23af",
   "metadata": {},
   "source": [
    "## View Plot and Save Data"
   ]
  },
  {
   "cell_type": "code",
   "execution_count": 37,
   "id": "95804f53-49cf-4d66-954e-47fd1af1261f",
   "metadata": {
    "tags": []
   },
   "outputs": [],
   "source": [
    "meas_df.to_csv(r\"Power_TX_Temp_23_Lane_234_DC_20.csv\")"
   ]
  },
  {
   "cell_type": "code",
   "execution_count": 38,
   "id": "d32d0bee-9489-4c33-9be1-a4b51c2b3b94",
   "metadata": {
    "tags": []
   },
   "outputs": [
    {
     "data": {
      "text/plain": [
       "[<matplotlib.lines.Line2D at 0x21a36d29610>]"
      ]
     },
     "execution_count": 38,
     "metadata": {},
     "output_type": "execute_result"
    },
    {
     "data": {
      "image/png": "[encoded data removed]",
      "text/plain": [
       "<Figure size 640x480 with 1 Axes>"
      ]
     },
     "metadata": {},
     "output_type": "display_data"
    }
   ],
   "source": [
    "plt.plot(meas_df.Time_s,meas_df.Power_W)"
   ]
  },
  {
   "cell_type": "markdown",
   "id": "8dd0d3fc-6d4c-4aa6-8d11-34b6c613f180",
   "metadata": {},
   "source": [
    "## Measurement Routine (Temperature Ramp)"
   ]
  },
  {
   "cell_type": "code",
   "execution_count": 39,
   "id": "22f94c27-4b3b-405a-a72d-dfbcb42857a6",
   "metadata": {
    "tags": []
   },
   "outputs": [],
   "source": [
    "t1 = time.time()\n",
    "for k in range(0,n+1,1):\n",
    "    if(T_Start+k*T_Step>47):\n",
    "        T_Set = 47\n",
    "    else:\n",
    "        T_Set = T_Start+k*T_Step\n",
    "    tec.set_temperature(T_Set)\n",
    "    time.sleep(t_wait)\n",
    "    T_read = tec.get_temperature()\n",
    "    Power_read = pm.get_power(1)\n",
    "    t_meas = time.time()-t0\n",
    "    dict = {'Time_s':t_meas, 'T_Wait_s':t_wait ,'Temperature_C':T_read ,\"Power_W\":Power_read}\n",
    "    meas_df_temp = pd.DataFrame([dict])\n",
    "    data = [meas_df_temp, meas_df]\n",
    "    meas_df = pd.concat(data,ignore_index=True,sort=False)\n",
    "\n",
    "tec.set_temperature(23)"
   ]
  },
  {
   "cell_type": "markdown",
   "id": "a7524393-8c04-49d0-a969-a60ee659345a",
   "metadata": {},
   "source": [
    "## View, Plot and Save Data"
   ]
  },
  {
   "cell_type": "code",
   "execution_count": 40,
   "id": "bcb501f3-9c34-4776-b474-42fbf4150d3f",
   "metadata": {
    "tags": []
   },
   "outputs": [
    {
     "data": {
      "text/html": [
       "<div>\n",
       "<style scoped>\n",
       "    .dataframe tbody tr th:only-of-type {\n",
       "        vertical-align: middle;\n",
       "    }\n",
       "\n",
       "    .dataframe tbody tr th {\n",
       "        vertical-align: top;\n",
       "    }\n",
       "\n",
       "    .dataframe thead th {\n",
       "        text-align: right;\n",
       "    }\n",
       "</style>\n",
       "<table border=\"1\" class=\"dataframe\">\n",
       "  <thead>\n",
       "    <tr style=\"text-align: right;\">\n",
       "      <th></th>\n",
       "      <th>Time_s</th>\n",
       "      <th>T_Wait_s</th>\n",
       "      <th>Temperature_C</th>\n",
       "      <th>Power_W</th>\n",
       "    </tr>\n",
       "  </thead>\n",
       "  <tbody>\n",
       "    <tr>\n",
       "      <th>0</th>\n",
       "      <td>818.115180</td>\n",
       "      <td>5.0</td>\n",
       "      <td>45.00</td>\n",
       "      <td>0.000622</td>\n",
       "    </tr>\n",
       "    <tr>\n",
       "      <th>1</th>\n",
       "      <td>813.096407</td>\n",
       "      <td>5.0</td>\n",
       "      <td>45.00</td>\n",
       "      <td>0.000629</td>\n",
       "    </tr>\n",
       "    <tr>\n",
       "      <th>2</th>\n",
       "      <td>808.078089</td>\n",
       "      <td>5.0</td>\n",
       "      <td>44.99</td>\n",
       "      <td>0.000619</td>\n",
       "    </tr>\n",
       "    <tr>\n",
       "      <th>3</th>\n",
       "      <td>803.050215</td>\n",
       "      <td>5.0</td>\n",
       "      <td>44.99</td>\n",
       "      <td>0.000636</td>\n",
       "    </tr>\n",
       "    <tr>\n",
       "      <th>4</th>\n",
       "      <td>798.034566</td>\n",
       "      <td>5.0</td>\n",
       "      <td>44.99</td>\n",
       "      <td>0.000637</td>\n",
       "    </tr>\n",
       "    <tr>\n",
       "      <th>...</th>\n",
       "      <td>...</td>\n",
       "      <td>...</td>\n",
       "      <td>...</td>\n",
       "      <td>...</td>\n",
       "    </tr>\n",
       "    <tr>\n",
       "      <th>612</th>\n",
       "      <td>1.359206</td>\n",
       "      <td>NaN</td>\n",
       "      <td>22.99</td>\n",
       "      <td>0.000028</td>\n",
       "    </tr>\n",
       "    <tr>\n",
       "      <th>613</th>\n",
       "      <td>1.088171</td>\n",
       "      <td>NaN</td>\n",
       "      <td>22.99</td>\n",
       "      <td>0.000028</td>\n",
       "    </tr>\n",
       "    <tr>\n",
       "      <th>614</th>\n",
       "      <td>0.816393</td>\n",
       "      <td>NaN</td>\n",
       "      <td>22.99</td>\n",
       "      <td>0.000028</td>\n",
       "    </tr>\n",
       "    <tr>\n",
       "      <th>615</th>\n",
       "      <td>0.544270</td>\n",
       "      <td>NaN</td>\n",
       "      <td>22.99</td>\n",
       "      <td>0.000028</td>\n",
       "    </tr>\n",
       "    <tr>\n",
       "      <th>616</th>\n",
       "      <td>0.273503</td>\n",
       "      <td>NaN</td>\n",
       "      <td>22.99</td>\n",
       "      <td>0.000028</td>\n",
       "    </tr>\n",
       "  </tbody>\n",
       "</table>\n",
       "<p>617 rows × 4 columns</p>\n",
       "</div>"
      ],
      "text/plain": [
       "         Time_s  T_Wait_s  Temperature_C   Power_W\n",
       "0    818.115180       5.0          45.00  0.000622\n",
       "1    813.096407       5.0          45.00  0.000629\n",
       "2    808.078089       5.0          44.99  0.000619\n",
       "3    803.050215       5.0          44.99  0.000636\n",
       "4    798.034566       5.0          44.99  0.000637\n",
       "..          ...       ...            ...       ...\n",
       "612    1.359206       NaN          22.99  0.000028\n",
       "613    1.088171       NaN          22.99  0.000028\n",
       "614    0.816393       NaN          22.99  0.000028\n",
       "615    0.544270       NaN          22.99  0.000028\n",
       "616    0.273503       NaN          22.99  0.000028\n",
       "\n",
       "[617 rows x 4 columns]"
      ]
     },
     "execution_count": 40,
     "metadata": {},
     "output_type": "execute_result"
    }
   ],
   "source": [
    "meas_df"
   ]
  },
  {
   "cell_type": "code",
   "execution_count": 41,
   "id": "8075a53c-2c8e-4abf-bdc0-a2dfcfea5153",
   "metadata": {
    "tags": []
   },
   "outputs": [
    {
     "data": {
      "text/plain": [
       "[<matplotlib.lines.Line2D at 0x21a34aeb190>]"
      ]
     },
     "execution_count": 41,
     "metadata": {},
     "output_type": "execute_result"
    },
    {
     "data": {
      "image/png": "[encoded data removed]",
      "text/plain": [
       "<Figure size 640x480 with 1 Axes>"
      ]
     },
     "metadata": {},
     "output_type": "display_data"
    }
   ],
   "source": [
    "plt.plot(meas_df.Time_s,meas_df.Power_W)"
   ]
  },
  {
   "cell_type": "code",
   "execution_count": 42,
   "id": "5c94b992-d360-4876-8e41-fb4a31c9a153",
   "metadata": {
    "tags": []
   },
   "outputs": [],
   "source": [
    "meas_df.to_csv(r\"Power_TX_Temp_Sweep_Lane_234_DC_20.csv\")"
   ]
  },
  {
   "cell_type": "markdown",
   "id": "00e7697d-4967-46f6-b996-d52ce42b83a3",
   "metadata": {},
   "source": [
    "## Close Instrument Handles"
   ]
  },
  {
   "cell_type": "code",
   "execution_count": 48,
   "id": "540f6483-44c8-45f2-87f2-a2e4765f3515",
   "metadata": {
    "tags": []
   },
   "outputs": [],
   "source": [
    "tec.close()\n",
    "pm.close()\n",
    "ld.close()"
   ]
  },
  {
   "cell_type": "markdown",
   "id": "1c9ed6b3-e0c1-4cb5-88a3-d9b9414bcbf3",
   "metadata": {},
   "source": [
    "## Debug Routines"
   ]
  },
  {
   "cell_type": "code",
   "execution_count": 10,
   "id": "97ec2efd-e22f-45b4-8523-cdf2da07b87a",
   "metadata": {
    "tags": []
   },
   "outputs": [
    {
     "data": {
      "text/plain": [
       "0.000691874"
      ]
     },
     "execution_count": 10,
     "metadata": {},
     "output_type": "execute_result"
    }
   ],
   "source": [
    "pm.get_power(1)"
   ]
  },
  {
   "cell_type": "code",
   "execution_count": 50,
   "id": "54d1602f-e25b-49fe-9212-e702d21030ab",
   "metadata": {
    "tags": []
   },
   "outputs": [],
   "source": [
    "ld.set_output_off(2)\n",
    "ld.set_output_off(3)\n",
    "ld.set_output_off(4)"
   ]
  },
  {
   "cell_type": "code",
   "execution_count": null,
   "id": "91193002-e91a-41c2-a239-7b8d12ea1079",
   "metadata": {},
   "outputs": [],
   "source": []
  }
 ],
 "metadata": {
  "kernelspec": {
   "display_name": "Python 3 (ipykernel)",
   "language": "python",
   "name": "python3"
  },
  "language_info": {
   "codemirror_mode": {
    "name": "ipython",
    "version": 3
   },
   "file_extension": ".py",
   "mimetype": "text/x-python",
   "name": "python",
   "nbconvert_exporter": "python",
   "pygments_lexer": "ipython3",
   "version": "3.11.4"
  }
 },
 "nbformat": 4,
 "nbformat_minor": 5
}
