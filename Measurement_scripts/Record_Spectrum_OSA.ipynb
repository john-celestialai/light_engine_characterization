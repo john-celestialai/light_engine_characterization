{
 "cells": [
  {
   "cell_type": "markdown",
   "id": "a0bfaae7-0564-43ed-b2df-03b01769dc50",
   "metadata": {},
   "source": [
    "## Import Dependencies and Open Instrument Handles"
   ]
  },
  {
   "cell_type": "code",
   "execution_count": 1,
   "id": "4f74f239-b71b-4187-ba05-9f3c9f8b6c0b",
   "metadata": {},
   "outputs": [],
   "source": [
    "import sys\n",
    "import os\n",
    "import time\n",
    "import pyvisa\n",
    "import pandas as pd\n",
    "import numpy as np\n",
    "import matplotlib.pyplot as plt\n",
    "from binascii import unhexlify\n",
    "import serial\n",
    "\n",
    "module_path = os.path.abspath(os.path.join('..'))\n",
    "if module_path not in sys.path:\n",
    "    sys.path.append(module_path+\"\\\\Drivers\")\n",
    "\n",
    "from Driver_OSA_MS9740B import *"
   ]
  },
  {
   "cell_type": "code",
   "execution_count": 2,
   "id": "b8c151dc-d403-4b09-be45-83f93f8c2979",
   "metadata": {
    "tags": []
   },
   "outputs": [
    {
     "name": "stdout",
     "output_type": "stream",
     "text": [
      "OSA Attenuation Status:  ON\n",
      "\n"
     ]
    }
   ],
   "source": [
    "rm = pyvisa.ResourceManager()\n",
    "\n",
    "osa = OSA_MS9740B()\n",
    "osa.open(rm)"
   ]
  },
  {
   "cell_type": "markdown",
   "id": "66575fea-6a44-45c2-8f41-57e2ac81f442",
   "metadata": {},
   "source": [
    "## Initialization"
   ]
  },
  {
   "cell_type": "code",
   "execution_count": 25,
   "id": "a03546f4-7616-493a-aa92-a3c7e61f0ecf",
   "metadata": {
    "tags": []
   },
   "outputs": [],
   "source": [
    "wavelength_start = 1565\n",
    "wavelength_stop = 1585\n",
    "wavelength_points = 2001\n",
    "OSA_Resolution = 0.03\n",
    "OSA_VBW = 1000\n",
    "Temperature = 23\n",
    "\n",
    "Light_engine = \"22-49-001\"\n",
    "Channel = 4\n",
    "\n",
    "Bias_current_mA = 50\n",
    "Voltage_V = 1.012"
   ]
  },
  {
   "cell_type": "markdown",
   "id": "2e9b6f73-2c55-42ac-9efa-a351ba197ff9",
   "metadata": {},
   "source": [
    "## Function Definition"
   ]
  },
  {
   "cell_type": "code",
   "execution_count": 26,
   "id": "99f11f4e-11c6-4b5d-bc6f-14e7283c9491",
   "metadata": {
    "tags": []
   },
   "outputs": [],
   "source": [
    "def sweepOSA(osa, wavelength_start, wavelength_stop, wavelength_points, OSA_Resolution, OSA_VBW):\n",
    "    osa.set_wavelength(wavelength_start, wavelength_stop, wavelength_points)\n",
    "    osa.set_resolution_VBW(OSA_Resolution,OSA_VBW)\n",
    "    osa.sweep_single()\n",
    "    Power_list = osa.get_sweep_result()\n",
    "    Power_list_uW = [None] * len(Power_list)\n",
    "    for i in range(0,len(Power_list)):\n",
    "        Power_list_uW[i] = 10**(float(Power_list[i])/10)*1000 \n",
    "    Wavelength_list = np.linspace(wavelength_start,wavelength_stop,wavelength_points)\n",
    "    Wavelength_peak_nm, Power_peak_dBm = osa.get_peak()   \n",
    "    if Power_peak_dBm >= -30:\n",
    "        SMSR_Linewidth_nm, SMSR_dB = osa.get_SMSR()\n",
    "        Linewidth_3db_nm = osa.get_linewidth(3)\n",
    "        Linewidth_20db_nm = osa.get_linewidth(20)\n",
    "    else:\n",
    "        SMSR_Linewidth_nm, SMSR_dB = 0, 0\n",
    "        Linewidth_3db_nm = 0\n",
    "        Linewidth_20db_nm = 0\n",
    "    return  Wavelength_list, Power_list, Power_list_uW, Wavelength_peak_nm, Power_peak_dBm, SMSR_Linewidth_nm, SMSR_dB, Linewidth_3db_nm, Linewidth_20db_nm"
   ]
  },
  {
   "cell_type": "markdown",
   "id": "24680886-81f0-4fe8-80ba-de499d17bd87",
   "metadata": {},
   "source": [
    "## Measurement Routine"
   ]
  },
  {
   "cell_type": "code",
   "execution_count": 38,
   "id": "fbf7e6d1-dd10-49f1-a0ec-cfea47ecae8a",
   "metadata": {
    "tags": []
   },
   "outputs": [],
   "source": [
    "meas_df = pd.DataFrame()\n",
    "Wavelength_list, Power_list, Power_list_uW, Wavelength_peak_nm, Power_peak_dBm, SMSR_Linewidth_nm, SMSR_dB, Linewidth_3db_nm, Linewidth_20db_nm = sweepOSA(osa, wavelength_start, wavelength_stop, wavelength_points, OSA_Resolution, OSA_VBW)\n",
    "meas_df_temp = pd.DataFrame({'Light_engine':Light_engine, 'Channel':Channel, 'Bias_current_mA':Bias_current_mA, 'Voltage_V':Voltage_V, 'Temeprature_C':Temperature, 'Wavelength_nm':Wavelength_list, 'Power_dBm':Power_list, \n",
    "                            'Power_uW':Power_list_uW, 'Wavelength_peak_nm':Wavelength_peak_nm, 'Power_peak_nm':Power_peak_dBm, 'SMSR_dB':SMSR_dB, 'SMSR_linewidth_nm':SMSR_Linewidth_nm,\n",
    "                            '3dB_linewidth_nm':Linewidth_3db_nm, '20dB_linewidth_nm':Linewidth_20db_nm})\n",
    "data = [meas_df_temp, meas_df]\n",
    "meas_df = pd.concat(data,ignore_index=True,sort=False)"
   ]
  },
  {
   "cell_type": "markdown",
   "id": "145b82c3-9581-4114-9d69-fd35e4522975",
   "metadata": {},
   "source": [
    "## Save Data"
   ]
  },
  {
   "cell_type": "code",
   "execution_count": 39,
   "id": "28fb38d3-6289-41e5-8e42-6cae2c92bcd5",
   "metadata": {
    "tags": []
   },
   "outputs": [],
   "source": [
    "meas_df.to_csv(r\"Channel_4_Bias_50_T_50.csv\")"
   ]
  },
  {
   "cell_type": "markdown",
   "id": "2a3cb886-5047-4756-84de-225fd6427b10",
   "metadata": {},
   "source": [
    "## Close Instrument Handles"
   ]
  },
  {
   "cell_type": "code",
   "execution_count": 3,
   "id": "3b6897be-eb06-4bfa-a4f3-0af7face2d42",
   "metadata": {},
   "outputs": [],
   "source": [
    "osa.close()"
   ]
  }
 ],
 "metadata": {
  "kernelspec": {
   "display_name": "Python 3 (ipykernel)",
   "language": "python",
   "name": "python3"
  },
  "language_info": {
   "codemirror_mode": {
    "name": "ipython",
    "version": 3
   },
   "file_extension": ".py",
   "mimetype": "text/x-python",
   "name": "python",
   "nbconvert_exporter": "python",
   "pygments_lexer": "ipython3",
   "version": "3.11.4"
  }
 },
 "nbformat": 4,
 "nbformat_minor": 5
}
