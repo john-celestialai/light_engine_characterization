{
 "cells": [
  {
   "cell_type": "markdown",
   "id": "e4ceed81-5bb4-4976-b7b5-79d81012b37b",
   "metadata": {},
   "source": [
    "## Import Dependencies"
   ]
  },
  {
   "cell_type": "code",
   "execution_count": 1,
   "id": "347a4ff7-c36e-4326-8c79-c35d52332115",
   "metadata": {
    "tags": []
   },
   "outputs": [],
   "source": [
    "import sys\n",
    "import os\n",
    "import time\n",
    "import pyvisa\n",
    "import pandas as pd\n",
    "import numpy as np\n",
    "import matplotlib.pyplot as plt\n",
    "from binascii import unhexlify\n",
    "import serial\n",
    "\n",
    "module_path = os.path.abspath(os.path.join('..'))\n",
    "if module_path not in sys.path:\n",
    "    sys.path.append(module_path+\"\\\\Drivers\")\n",
    "    \n",
    "from Driver_Laser_Poet import *\n",
    "from Driver_OSA_MS9740B import *"
   ]
  },
  {
   "cell_type": "code",
   "execution_count": 2,
   "id": "0a57efbd-aa47-4b5b-b4ed-62823535737f",
   "metadata": {
    "tags": []
   },
   "outputs": [
    {
     "name": "stdout",
     "output_type": "stream",
     "text": [
      "OSA Attenuation Status:  ON\n",
      "\n",
      "POET,ELS_8Channel,POET20240116-01,V004\n",
      "Set channel 0 ON\n",
      "Set channel 2 ON\n"
     ]
    }
   ],
   "source": [
    "rm = pyvisa.ResourceManager()\n",
    "\n",
    "osa = OSA_MS9740B()\n",
    "osa.open(rm)\n",
    "\n",
    "le = LE_POET()\n",
    "le.open(rm)\n",
    "le.set_timeout(10000)\n",
    "rf = le.laser.query('*IDN?')\n",
    "print(rf)\n",
    "\n",
    "rf = le.set_fan_on(0) \n",
    "print(rf)\n",
    "rf = le.set_fan_on(2) \n",
    "print(rf)"
   ]
  },
  {
   "cell_type": "markdown",
   "id": "d306388f-9b41-4638-ae7a-a9fc6181c66c",
   "metadata": {},
   "source": [
    "## Initialization"
   ]
  },
  {
   "cell_type": "markdown",
   "id": "c81b766f-bafe-4f35-99bb-4ca08ceb2080",
   "metadata": {},
   "source": [
    "#### Turn off all LE Channels and set bias current to 0 mA"
   ]
  },
  {
   "cell_type": "code",
   "execution_count": 53,
   "id": "8131e2f9-32c9-46d4-b86d-55f976e2e61e",
   "metadata": {
    "tags": []
   },
   "outputs": [
    {
     "name": "stdout",
     "output_type": "stream",
     "text": [
      "0,OFF|1,OFF|2,OFF|3,OFF|4,OFF|5,OFF|6,OFF|7,OFF\n",
      "0,0.00|1,0.00|2,0.00|3,0.00|4,0.00|5,0.00|6,0.00|7,0.00\n"
     ]
    }
   ],
   "source": [
    "rf = le.set_output_off('0|1|2|3|4|5|6|7')\n",
    "rf = le.get_optical_output_status('0|1|2|3|4|5|6|7')\n",
    "print(rf)\n",
    "rf = le.set_laser_current('0|1|2|3|4|5|6|7',0)\n",
    "rf = le.get_laser_current('0|1|2|3|4|5|6|7')\n",
    "print(rf)"
   ]
  },
  {
   "cell_type": "markdown",
   "id": "0cce4c64-8c33-40c3-94d1-936c3a633238",
   "metadata": {},
   "source": [
    "#### Define measurement conditions"
   ]
  },
  {
   "cell_type": "code",
   "execution_count": 46,
   "id": "4fc59b7c-b0f1-4f21-b144-75204285345f",
   "metadata": {
    "tags": []
   },
   "outputs": [],
   "source": [
    "T_Start = 25\n",
    "T_Stop = 50\n",
    "T_Step = 12.5\n",
    "t_wait = 240\n",
    "n = int(((T_Stop-T_Start)/T_Step)+1)\n",
    "\n",
    "wavelength_start = 1565\n",
    "wavelength_stop = 1585\n",
    "wavelength_points = 2001\n",
    "OSA_Resolution = 0.03\n",
    "OSA_VBW = 1000\n",
    "timeout = 10000\n",
    "\n",
    "bias_start = 0\n",
    "bias_stop = 500\n",
    "bias_step = 2\n",
    "bias_current = np.linspace(bias_start,bias_stop,int((bias_stop-bias_start)/bias_step) + 1)\n",
    "\n",
    "Light_engine = \"ELS 24-12-0001\"\n",
    "Channel = 2\n",
    "\n",
    "osa.set_timeout(20000)"
   ]
  },
  {
   "cell_type": "markdown",
   "id": "937a1c4c-8211-49d0-9937-1da721af5f54",
   "metadata": {},
   "source": [
    "#### Function definition"
   ]
  },
  {
   "cell_type": "code",
   "execution_count": 47,
   "id": "b87990b3-bf6b-4d28-bbce-1dc284fab70f",
   "metadata": {
    "tags": []
   },
   "outputs": [],
   "source": [
    "def sweepOSA(osa, wavelength_start, wavelength_stop, wavelength_points, OSA_Resolution, OSA_VBW):\n",
    "    osa.set_wavelength(wavelength_start, wavelength_stop, wavelength_points)\n",
    "    osa.set_resolution_VBW(OSA_Resolution,OSA_VBW)\n",
    "    osa.sweep_single()\n",
    "    Power_list = osa.get_sweep_result()\n",
    "    Power_list_uW = [None] * len(Power_list)\n",
    "    for i in range(0,len(Power_list)):\n",
    "        Power_list_uW[i] = 10**(float(Power_list[i])/10)*1000 \n",
    "    Wavelength_list = np.linspace(wavelength_start,wavelength_stop,wavelength_points)\n",
    "    Wavelength_peak_nm, Power_peak_dBm = osa.get_peak()   \n",
    "    if Power_peak_dBm >= -30:\n",
    "        SMSR_Linewidth_nm, SMSR_dB = osa.get_SMSR()\n",
    "        Linewidth_3db_nm = osa.get_linewidth(3)\n",
    "        Linewidth_20db_nm = osa.get_linewidth(20)\n",
    "    else:\n",
    "        SMSR_Linewidth_nm, SMSR_dB = 0, 0\n",
    "        Linewidth_3db_nm = 0\n",
    "        Linewidth_20db_nm = 0\n",
    "    return  Wavelength_list, Power_list, Power_list_uW, Wavelength_peak_nm, Power_peak_dBm, SMSR_Linewidth_nm, SMSR_dB, Linewidth_3db_nm, Linewidth_20db_nm"
   ]
  },
  {
   "cell_type": "markdown",
   "id": "29f265a2-bfac-43e1-8258-8f538d1506f3",
   "metadata": {},
   "source": [
    "## Measurement routine"
   ]
  },
  {
   "cell_type": "code",
   "execution_count": 48,
   "id": "15eff3c6-5597-4881-a957-196194d6e82e",
   "metadata": {
    "tags": []
   },
   "outputs": [],
   "source": [
    "meas_df = pd.DataFrame()"
   ]
  },
  {
   "cell_type": "code",
   "execution_count": 49,
   "id": "32ce78d8-46f8-4bb7-90d3-c30b63f6ebe5",
   "metadata": {
    "tags": []
   },
   "outputs": [
    {
     "name": "stdout",
     "output_type": "stream",
     "text": [
      "Set TEC target temperature 25.00\n",
      "Set TEC ON\n",
      "24.97\n",
      "Set channel 2 ON\n",
      "Set TEC target temperature 37.50\n",
      "Set TEC ON\n",
      "37.53\n",
      "Set channel 2 ON\n",
      "Set TEC target temperature 50.00\n",
      "Set TEC ON\n",
      "50.05\n",
      "Set channel 2 ON\n"
     ]
    }
   ],
   "source": [
    "for k in range(0,n,1):\n",
    "    rf = le.set_laser_current(Channel,0)\n",
    "    T_Set = T_Start+k*T_Step\n",
    "    rf = le.set_temperature(T_Set)\n",
    "    print(rf)\n",
    "    rf = le.set_tec_output_on()\n",
    "    print(rf)\n",
    "    time.sleep(t_wait)\n",
    "    rf = le.measure_temperature()\n",
    "    print(rf)\n",
    "    rf = le.set_output_on(Channel)\n",
    "    print(rf)\n",
    "    for j in range(0,int(((bias_stop-bias_start)/bias_step)+1),bias_step):     \n",
    "        rf = le.set_laser_current(Channel,bias_current[j])\n",
    "        T_read = le.measure_temperature()\n",
    "        Voltage_V = le.measure_laser_voltage(Channel)\n",
    "        bias_current_meas = le.measure_laser_current(Channel)\n",
    "        Wavelength_list, Power_list, Power_list_uW, Wavelength_peak_nm, Power_peak_dBm, SMSR_Linewidth_nm, SMSR_dB, Linewidth_3db_nm, Linewidth_20db_nm = sweepOSA(osa, wavelength_start, wavelength_stop, wavelength_points, OSA_Resolution, OSA_VBW)\n",
    "        meas_df_temp = pd.DataFrame({'Light_engine':Light_engine, 'Channel':Channel, 'Bias_current_mA':bias_current[j], 'Bias_current_meas_mA':bias_current_meas,'Voltage_V':Voltage_V, 'Temeprature_C':T_read, 'Wavelength_nm':Wavelength_list, 'Power_dBm':Power_list, \n",
    "                                    'Power_uW':Power_list_uW, 'Wavelength_peak_nm':Wavelength_peak_nm, 'Power_peak_nm':Power_peak_dBm, 'SMSR_dB':SMSR_dB, 'SMSR_linewidth_nm':SMSR_Linewidth_nm,\n",
    "                                    '3dB_linewidth_nm':Linewidth_3db_nm, '20dB_linewidth_nm':Linewidth_20db_nm})\n",
    "        data = [meas_df_temp, meas_df]\n",
    "        meas_df = pd.concat(data,ignore_index=True,sort=False)"
   ]
  },
  {
   "cell_type": "markdown",
   "id": "f8835c4a-c9d3-4d6b-b2ad-a2a33136abfe",
   "metadata": {},
   "source": [
    "## Save data and reset values"
   ]
  },
  {
   "cell_type": "code",
   "execution_count": 50,
   "id": "960b7f62-3c40-462e-a2d6-c01b2c9a6ece",
   "metadata": {
    "tags": []
   },
   "outputs": [
    {
     "name": "stdout",
     "output_type": "stream",
     "text": [
      "Set TEC OFF\n",
      "Set TEC target temperature 25.00\n",
      "Set channel 2 OFF\n",
      "Set Current value 0.00 to channel :2\n"
     ]
    }
   ],
   "source": [
    "rf = le.set_tec_output_off()\n",
    "print(rf)\n",
    "rf = le.set_temperature(25)\n",
    "print(rf)\n",
    "rf = le.set_output_off(Channel)\n",
    "print(rf)\n",
    "rf = le.set_laser_current(Channel,0)\n",
    "print(rf)"
   ]
  },
  {
   "cell_type": "code",
   "execution_count": 51,
   "id": "f52becfd-2b03-40a6-968d-4a89b4edd0a6",
   "metadata": {
    "tags": []
   },
   "outputs": [],
   "source": [
    "meas_df.to_csv(r\"ELS-24-12-0001_Channel_2.csv\")"
   ]
  },
  {
   "cell_type": "code",
   "execution_count": 52,
   "id": "e556bb22-a39e-4bf0-be3e-8ac3b725d35c",
   "metadata": {
    "tags": []
   },
   "outputs": [
    {
     "data": {
      "text/html": [
       "<div>\n",
       "<style scoped>\n",
       "    .dataframe tbody tr th:only-of-type {\n",
       "        vertical-align: middle;\n",
       "    }\n",
       "\n",
       "    .dataframe tbody tr th {\n",
       "        vertical-align: top;\n",
       "    }\n",
       "\n",
       "    .dataframe thead th {\n",
       "        text-align: right;\n",
       "    }\n",
       "</style>\n",
       "<table border=\"1\" class=\"dataframe\">\n",
       "  <thead>\n",
       "    <tr style=\"text-align: right;\">\n",
       "      <th></th>\n",
       "      <th>Light_engine</th>\n",
       "      <th>Channel</th>\n",
       "      <th>Bias_current_mA</th>\n",
       "      <th>Bias_current_meas_mA</th>\n",
       "      <th>Voltage_V</th>\n",
       "      <th>Temeprature_C</th>\n",
       "      <th>Wavelength_nm</th>\n",
       "      <th>Power_dBm</th>\n",
       "      <th>Power_uW</th>\n",
       "      <th>Wavelength_peak_nm</th>\n",
       "      <th>Power_peak_nm</th>\n",
       "      <th>SMSR_dB</th>\n",
       "      <th>SMSR_linewidth_nm</th>\n",
       "      <th>3dB_linewidth_nm</th>\n",
       "      <th>20dB_linewidth_nm</th>\n",
       "    </tr>\n",
       "  </thead>\n",
       "  <tbody>\n",
       "    <tr>\n",
       "      <th>0</th>\n",
       "      <td>ELS 24-12-0001</td>\n",
       "      <td>2</td>\n",
       "      <td>500.0</td>\n",
       "      <td>495.22</td>\n",
       "      <td>2.04</td>\n",
       "      <td>50.09</td>\n",
       "      <td>1565.00</td>\n",
       "      <td>-49.46</td>\n",
       "      <td>0.011324</td>\n",
       "      <td>1581.44</td>\n",
       "      <td>16.22</td>\n",
       "      <td>56.23</td>\n",
       "      <td>0.48</td>\n",
       "      <td>0.082</td>\n",
       "      <td>0.029</td>\n",
       "    </tr>\n",
       "    <tr>\n",
       "      <th>1</th>\n",
       "      <td>ELS 24-12-0001</td>\n",
       "      <td>2</td>\n",
       "      <td>500.0</td>\n",
       "      <td>495.22</td>\n",
       "      <td>2.04</td>\n",
       "      <td>50.09</td>\n",
       "      <td>1565.01</td>\n",
       "      <td>-50.02</td>\n",
       "      <td>0.009954</td>\n",
       "      <td>1581.44</td>\n",
       "      <td>16.22</td>\n",
       "      <td>56.23</td>\n",
       "      <td>0.48</td>\n",
       "      <td>0.082</td>\n",
       "      <td>0.029</td>\n",
       "    </tr>\n",
       "    <tr>\n",
       "      <th>2</th>\n",
       "      <td>ELS 24-12-0001</td>\n",
       "      <td>2</td>\n",
       "      <td>500.0</td>\n",
       "      <td>495.22</td>\n",
       "      <td>2.04</td>\n",
       "      <td>50.09</td>\n",
       "      <td>1565.02</td>\n",
       "      <td>-49.24</td>\n",
       "      <td>0.011912</td>\n",
       "      <td>1581.44</td>\n",
       "      <td>16.22</td>\n",
       "      <td>56.23</td>\n",
       "      <td>0.48</td>\n",
       "      <td>0.082</td>\n",
       "      <td>0.029</td>\n",
       "    </tr>\n",
       "    <tr>\n",
       "      <th>3</th>\n",
       "      <td>ELS 24-12-0001</td>\n",
       "      <td>2</td>\n",
       "      <td>500.0</td>\n",
       "      <td>495.22</td>\n",
       "      <td>2.04</td>\n",
       "      <td>50.09</td>\n",
       "      <td>1565.03</td>\n",
       "      <td>-49.34</td>\n",
       "      <td>0.011641</td>\n",
       "      <td>1581.44</td>\n",
       "      <td>16.22</td>\n",
       "      <td>56.23</td>\n",
       "      <td>0.48</td>\n",
       "      <td>0.082</td>\n",
       "      <td>0.029</td>\n",
       "    </tr>\n",
       "    <tr>\n",
       "      <th>4</th>\n",
       "      <td>ELS 24-12-0001</td>\n",
       "      <td>2</td>\n",
       "      <td>500.0</td>\n",
       "      <td>495.22</td>\n",
       "      <td>2.04</td>\n",
       "      <td>50.09</td>\n",
       "      <td>1565.04</td>\n",
       "      <td>-49.18</td>\n",
       "      <td>0.012078</td>\n",
       "      <td>1581.44</td>\n",
       "      <td>16.22</td>\n",
       "      <td>56.23</td>\n",
       "      <td>0.48</td>\n",
       "      <td>0.082</td>\n",
       "      <td>0.029</td>\n",
       "    </tr>\n",
       "    <tr>\n",
       "      <th>...</th>\n",
       "      <td>...</td>\n",
       "      <td>...</td>\n",
       "      <td>...</td>\n",
       "      <td>...</td>\n",
       "      <td>...</td>\n",
       "      <td>...</td>\n",
       "      <td>...</td>\n",
       "      <td>...</td>\n",
       "      <td>...</td>\n",
       "      <td>...</td>\n",
       "      <td>...</td>\n",
       "      <td>...</td>\n",
       "      <td>...</td>\n",
       "      <td>...</td>\n",
       "      <td>...</td>\n",
       "    </tr>\n",
       "    <tr>\n",
       "      <th>756373</th>\n",
       "      <td>ELS 24-12-0001</td>\n",
       "      <td>2</td>\n",
       "      <td>0.0</td>\n",
       "      <td>9.48</td>\n",
       "      <td>0.00</td>\n",
       "      <td>24.94</td>\n",
       "      <td>1584.96</td>\n",
       "      <td>-56.79</td>\n",
       "      <td>0.002094</td>\n",
       "      <td>1576.43</td>\n",
       "      <td>-49.47</td>\n",
       "      <td>0.00</td>\n",
       "      <td>0.00</td>\n",
       "      <td>0.000</td>\n",
       "      <td>0.000</td>\n",
       "    </tr>\n",
       "    <tr>\n",
       "      <th>756374</th>\n",
       "      <td>ELS 24-12-0001</td>\n",
       "      <td>2</td>\n",
       "      <td>0.0</td>\n",
       "      <td>9.48</td>\n",
       "      <td>0.00</td>\n",
       "      <td>24.94</td>\n",
       "      <td>1584.97</td>\n",
       "      <td>-55.07</td>\n",
       "      <td>0.003112</td>\n",
       "      <td>1576.43</td>\n",
       "      <td>-49.47</td>\n",
       "      <td>0.00</td>\n",
       "      <td>0.00</td>\n",
       "      <td>0.000</td>\n",
       "      <td>0.000</td>\n",
       "    </tr>\n",
       "    <tr>\n",
       "      <th>756375</th>\n",
       "      <td>ELS 24-12-0001</td>\n",
       "      <td>2</td>\n",
       "      <td>0.0</td>\n",
       "      <td>9.48</td>\n",
       "      <td>0.00</td>\n",
       "      <td>24.94</td>\n",
       "      <td>1584.98</td>\n",
       "      <td>-58.55</td>\n",
       "      <td>0.001396</td>\n",
       "      <td>1576.43</td>\n",
       "      <td>-49.47</td>\n",
       "      <td>0.00</td>\n",
       "      <td>0.00</td>\n",
       "      <td>0.000</td>\n",
       "      <td>0.000</td>\n",
       "    </tr>\n",
       "    <tr>\n",
       "      <th>756376</th>\n",
       "      <td>ELS 24-12-0001</td>\n",
       "      <td>2</td>\n",
       "      <td>0.0</td>\n",
       "      <td>9.48</td>\n",
       "      <td>0.00</td>\n",
       "      <td>24.94</td>\n",
       "      <td>1584.99</td>\n",
       "      <td>-54.28</td>\n",
       "      <td>0.003733</td>\n",
       "      <td>1576.43</td>\n",
       "      <td>-49.47</td>\n",
       "      <td>0.00</td>\n",
       "      <td>0.00</td>\n",
       "      <td>0.000</td>\n",
       "      <td>0.000</td>\n",
       "    </tr>\n",
       "    <tr>\n",
       "      <th>756377</th>\n",
       "      <td>ELS 24-12-0001</td>\n",
       "      <td>2</td>\n",
       "      <td>0.0</td>\n",
       "      <td>9.48</td>\n",
       "      <td>0.00</td>\n",
       "      <td>24.94</td>\n",
       "      <td>1585.00</td>\n",
       "      <td>-59.63</td>\n",
       "      <td>0.001089</td>\n",
       "      <td>1576.43</td>\n",
       "      <td>-49.47</td>\n",
       "      <td>0.00</td>\n",
       "      <td>0.00</td>\n",
       "      <td>0.000</td>\n",
       "      <td>0.000</td>\n",
       "    </tr>\n",
       "  </tbody>\n",
       "</table>\n",
       "<p>756378 rows × 15 columns</p>\n",
       "</div>"
      ],
      "text/plain": [
       "          Light_engine  Channel  Bias_current_mA  Bias_current_meas_mA  \\\n",
       "0       ELS 24-12-0001        2            500.0                495.22   \n",
       "1       ELS 24-12-0001        2            500.0                495.22   \n",
       "2       ELS 24-12-0001        2            500.0                495.22   \n",
       "3       ELS 24-12-0001        2            500.0                495.22   \n",
       "4       ELS 24-12-0001        2            500.0                495.22   \n",
       "...                ...      ...              ...                   ...   \n",
       "756373  ELS 24-12-0001        2              0.0                  9.48   \n",
       "756374  ELS 24-12-0001        2              0.0                  9.48   \n",
       "756375  ELS 24-12-0001        2              0.0                  9.48   \n",
       "756376  ELS 24-12-0001        2              0.0                  9.48   \n",
       "756377  ELS 24-12-0001        2              0.0                  9.48   \n",
       "\n",
       "        Voltage_V  Temeprature_C  Wavelength_nm Power_dBm  Power_uW  \\\n",
       "0            2.04          50.09        1565.00    -49.46  0.011324   \n",
       "1            2.04          50.09        1565.01    -50.02  0.009954   \n",
       "2            2.04          50.09        1565.02    -49.24  0.011912   \n",
       "3            2.04          50.09        1565.03    -49.34  0.011641   \n",
       "4            2.04          50.09        1565.04    -49.18  0.012078   \n",
       "...           ...            ...            ...       ...       ...   \n",
       "756373       0.00          24.94        1584.96    -56.79  0.002094   \n",
       "756374       0.00          24.94        1584.97    -55.07  0.003112   \n",
       "756375       0.00          24.94        1584.98    -58.55  0.001396   \n",
       "756376       0.00          24.94        1584.99    -54.28  0.003733   \n",
       "756377       0.00          24.94        1585.00    -59.63  0.001089   \n",
       "\n",
       "        Wavelength_peak_nm  Power_peak_nm  SMSR_dB  SMSR_linewidth_nm  \\\n",
       "0                  1581.44          16.22    56.23               0.48   \n",
       "1                  1581.44          16.22    56.23               0.48   \n",
       "2                  1581.44          16.22    56.23               0.48   \n",
       "3                  1581.44          16.22    56.23               0.48   \n",
       "4                  1581.44          16.22    56.23               0.48   \n",
       "...                    ...            ...      ...                ...   \n",
       "756373             1576.43         -49.47     0.00               0.00   \n",
       "756374             1576.43         -49.47     0.00               0.00   \n",
       "756375             1576.43         -49.47     0.00               0.00   \n",
       "756376             1576.43         -49.47     0.00               0.00   \n",
       "756377             1576.43         -49.47     0.00               0.00   \n",
       "\n",
       "        3dB_linewidth_nm  20dB_linewidth_nm  \n",
       "0                  0.082              0.029  \n",
       "1                  0.082              0.029  \n",
       "2                  0.082              0.029  \n",
       "3                  0.082              0.029  \n",
       "4                  0.082              0.029  \n",
       "...                  ...                ...  \n",
       "756373             0.000              0.000  \n",
       "756374             0.000              0.000  \n",
       "756375             0.000              0.000  \n",
       "756376             0.000              0.000  \n",
       "756377             0.000              0.000  \n",
       "\n",
       "[756378 rows x 15 columns]"
      ]
     },
     "execution_count": 52,
     "metadata": {},
     "output_type": "execute_result"
    }
   ],
   "source": [
    "meas_df"
   ]
  },
  {
   "cell_type": "markdown",
   "id": "e6a56862-a112-4840-9650-cc0e714e0aab",
   "metadata": {},
   "source": [
    "## Clear handles"
   ]
  },
  {
   "cell_type": "code",
   "execution_count": 55,
   "id": "75df62d7-f0ab-4dac-9cbb-fa1a940fd686",
   "metadata": {
    "tags": []
   },
   "outputs": [],
   "source": [
    "le.close()\n",
    "osa.close()"
   ]
  },
  {
   "cell_type": "code",
   "execution_count": null,
   "id": "73071b10-82f4-418f-9f22-629eaeacf046",
   "metadata": {},
   "outputs": [],
   "source": []
  }
 ],
 "metadata": {
  "kernelspec": {
   "display_name": "Python 3 (ipykernel)",
   "language": "python",
   "name": "python3"
  },
  "language_info": {
   "codemirror_mode": {
    "name": "ipython",
    "version": 3
   },
   "file_extension": ".py",
   "mimetype": "text/x-python",
   "name": "python",
   "nbconvert_exporter": "python",
   "pygments_lexer": "ipython3",
   "version": "3.11.4"
  }
 },
 "nbformat": 4,
 "nbformat_minor": 5
}
