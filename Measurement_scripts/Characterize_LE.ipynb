{
 "cells": [
  {
   "cell_type": "markdown",
   "id": "a859bf0c-7027-4f4b-9522-e93708d80dc6",
   "metadata": {},
   "source": [
    "## Import Dependencies and Open Instrument Handles"
   ]
  },
  {
   "cell_type": "code",
   "execution_count": 1,
   "id": "f31cabd4-cb19-4125-932d-3f923cbeb3e2",
   "metadata": {
    "tags": []
   },
   "outputs": [],
   "source": [
    "import sys\n",
    "import os\n",
    "import time\n",
    "import pyvisa\n",
    "import pandas as pd\n",
    "import numpy as np\n",
    "import matplotlib.pyplot as plt\n",
    "from binascii import unhexlify\n",
    "import serial\n",
    "\n",
    "module_path = os.path.abspath(os.path.join('..'))\n",
    "if module_path not in sys.path:\n",
    "    sys.path.append(module_path+\"\\\\Drivers\")\n",
    "\n",
    "from Driver_TECSource_5240 import *\n",
    "from Driver_PM_PM5020 import *\n",
    "from Driver_OSA_MS9740B import *\n",
    "from Driver_LaserSource_71440108 import *"
   ]
  },
  {
   "cell_type": "code",
   "execution_count": 2,
   "id": "779d46df-23a3-437a-b3a1-ee6ba177d8db",
   "metadata": {
    "tags": []
   },
   "outputs": [
    {
     "name": "stdout",
     "output_type": "stream",
     "text": [
      "OSA Attenuation Status:  ON\n",
      "\n"
     ]
    }
   ],
   "source": [
    "rm = pyvisa.ResourceManager()\n",
    "\n",
    "tec = TECSource_5240()\n",
    "tec.open(rm,'ASRL5::INSTR')\n",
    "\n",
    "pm = PM_PM5020()\n",
    "pm.open(rm)\n",
    "\n",
    "osa = OSA_MS9740B()\n",
    "osa.open(rm)\n",
    "\n",
    "ld = LaserSource_71440108()\n",
    "ld.open(rm)"
   ]
  },
  {
   "cell_type": "markdown",
   "id": "2d7827b7-b767-4e89-8131-09a8d280ec06",
   "metadata": {},
   "source": [
    "## Initialization"
   ]
  },
  {
   "cell_type": "code",
   "execution_count": 3,
   "id": "65d5ffa6-b580-4fa3-ad0d-d33717cc726a",
   "metadata": {
    "tags": []
   },
   "outputs": [],
   "source": [
    "ld.set_output_off(1)\n",
    "ld.set_output_off(2)\n",
    "ld.set_output_off(3)\n",
    "ld.set_output_on(4)"
   ]
  },
  {
   "cell_type": "code",
   "execution_count": 4,
   "id": "8e79e1a6-9f74-4b12-928f-29094bc6f3ed",
   "metadata": {
    "tags": []
   },
   "outputs": [],
   "source": [
    "T_Start = 25\n",
    "T_Stop = 50\n",
    "T_Step = 5\n",
    "t_wait = 45\n",
    "n = int((T_Stop-T_Start)/T_Step+1)\n",
    "pm.set_units(1,\"W\")\n",
    "\n",
    "wavelength_start = 1565\n",
    "wavelength_stop = 1585\n",
    "wavelength_points = 2001\n",
    "OSA_Resolution = 0.03\n",
    "OSA_VBW = 1000\n",
    "timeout = 10000\n",
    "\n",
    "bias_start = 0\n",
    "bias_stop = 500\n",
    "bias_step = 1\n",
    "bias_current = np.linspace(bias_start,bias_stop,int((bias_stop-bias_start)/bias_step) + 1)\n",
    "\n",
    "Light_engine = \"22-49-005\"\n",
    "Channel = 4\n",
    "\n",
    "osa.set_timeout(20000)\n",
    "\n",
    "channel1 = 1\n",
    "channel2 = 2"
   ]
  },
  {
   "cell_type": "markdown",
   "id": "f80868ac-712f-484b-80db-a3fa92aadbd5",
   "metadata": {},
   "source": [
    "## Measurement Routine (Temperature Ramp)"
   ]
  },
  {
   "cell_type": "code",
   "execution_count": 5,
   "id": "768ae698-0421-4bd6-8ab7-a0d459dd536f",
   "metadata": {},
   "outputs": [],
   "source": [
    "meas_df = pd.DataFrame()\n",
    "t0 = time.time()"
   ]
  },
  {
   "cell_type": "code",
   "execution_count": 69,
   "id": "ee715c58-1e7c-487c-a744-0d13e08c401c",
   "metadata": {
    "tags": []
   },
   "outputs": [],
   "source": [
    "for k in range(0,n,1):\n",
    "    T_Set = T_Start+k*T_Step\n",
    "    tec.set_temperature(T_Set)\n",
    "    time.sleep(t_wait)\n",
    "    for j in range(0,int(((bias_stop-bias_start)/bias_step)+1),bias_step):\n",
    "        \n",
    "        ld.set_laser_current(Channel,bias_current[j])\n",
    "        \n",
    "        T_read = tec.get_temperature()\n",
    "        t_meas = time.time()-t0\n",
    "        \n",
    "        Voltage_V = ld.get_laser_voltage(Channel)        \n",
    "        P_out = pm.get_power(1)\n",
    "        meas_df_temp = pd.DataFrame({'Time':t_meas, 'Light_engine':Light_engine, 'Bias_current_mA':bias_current[j], 'Voltage_V':Voltage_V, 'Temperature_Set_C':T_Set, 'Temperature_C':T_read, 'Channel':channel1, 'Power_dBm':P_out},index=[0])\n",
    "        data = [meas_df_temp, meas_df]\n",
    "        meas_df = pd.concat(data,ignore_index=True,sort=False)\n",
    "        \n",
    "        Voltage_V = ld.get_laser_voltage(channel2)\n",
    "        P_out = pm.get_power(2)\n",
    "        meas_df_temp = pd.DataFrame({'Time':t_meas, 'Light_engine':Light_engine, 'Bias_current_mA':bias_current[j], 'Voltage_V':Voltage_V, 'Temperature_Set_C':T_Set, 'Temperature_C':T_read, 'Channel':channel2, 'Power_dBm':P_out},index=[0])\n",
    "        data = [meas_df_temp, meas_df]\n",
    "        meas_df = pd.concat(data,ignore_index=True,sort=False)\n",
    "    ld.set_laser_current(channel1,0)\n",
    "    ld.set_laser_current(channel2,0)"
   ]
  },
  {
   "cell_type": "markdown",
   "id": "e25dd3b1-ed55-453a-8bdd-b93f59784ca6",
   "metadata": {},
   "source": [
    "## View, Plot and Save Data"
   ]
  },
  {
   "cell_type": "code",
   "execution_count": 70,
   "id": "bcb501f3-9c34-4776-b474-42fbf4150d3f",
   "metadata": {
    "tags": []
   },
   "outputs": [
    {
     "data": {
      "text/html": [
       "<div>\n",
       "<style scoped>\n",
       "    .dataframe tbody tr th:only-of-type {\n",
       "        vertical-align: middle;\n",
       "    }\n",
       "\n",
       "    .dataframe tbody tr th {\n",
       "        vertical-align: top;\n",
       "    }\n",
       "\n",
       "    .dataframe thead th {\n",
       "        text-align: right;\n",
       "    }\n",
       "</style>\n",
       "<table border=\"1\" class=\"dataframe\">\n",
       "  <thead>\n",
       "    <tr style=\"text-align: right;\">\n",
       "      <th></th>\n",
       "      <th>Time</th>\n",
       "      <th>Light_engine</th>\n",
       "      <th>Bias_current_mA</th>\n",
       "      <th>Voltage_V</th>\n",
       "      <th>Temperature_Set_C</th>\n",
       "      <th>Temperature_C</th>\n",
       "      <th>Channel</th>\n",
       "      <th>Power_dBm</th>\n",
       "    </tr>\n",
       "  </thead>\n",
       "  <tbody>\n",
       "    <tr>\n",
       "      <th>0</th>\n",
       "      <td>1153.950177</td>\n",
       "      <td>22-49-001</td>\n",
       "      <td>500.0</td>\n",
       "      <td>3.163</td>\n",
       "      <td>50</td>\n",
       "      <td>50.07</td>\n",
       "      <td>2</td>\n",
       "      <td>0.052148</td>\n",
       "    </tr>\n",
       "    <tr>\n",
       "      <th>1</th>\n",
       "      <td>1153.950177</td>\n",
       "      <td>22-49-001</td>\n",
       "      <td>500.0</td>\n",
       "      <td>2.938</td>\n",
       "      <td>50</td>\n",
       "      <td>50.07</td>\n",
       "      <td>1</td>\n",
       "      <td>0.056945</td>\n",
       "    </tr>\n",
       "    <tr>\n",
       "      <th>2</th>\n",
       "      <td>1153.870087</td>\n",
       "      <td>22-49-001</td>\n",
       "      <td>499.0</td>\n",
       "      <td>3.157</td>\n",
       "      <td>50</td>\n",
       "      <td>50.07</td>\n",
       "      <td>2</td>\n",
       "      <td>0.052165</td>\n",
       "    </tr>\n",
       "    <tr>\n",
       "      <th>3</th>\n",
       "      <td>1153.870087</td>\n",
       "      <td>22-49-001</td>\n",
       "      <td>499.0</td>\n",
       "      <td>2.938</td>\n",
       "      <td>50</td>\n",
       "      <td>50.07</td>\n",
       "      <td>1</td>\n",
       "      <td>0.056925</td>\n",
       "    </tr>\n",
       "    <tr>\n",
       "      <th>4</th>\n",
       "      <td>1153.806185</td>\n",
       "      <td>22-49-001</td>\n",
       "      <td>498.0</td>\n",
       "      <td>3.152</td>\n",
       "      <td>50</td>\n",
       "      <td>50.07</td>\n",
       "      <td>2</td>\n",
       "      <td>0.052240</td>\n",
       "    </tr>\n",
       "    <tr>\n",
       "      <th>...</th>\n",
       "      <td>...</td>\n",
       "      <td>...</td>\n",
       "      <td>...</td>\n",
       "      <td>...</td>\n",
       "      <td>...</td>\n",
       "      <td>...</td>\n",
       "      <td>...</td>\n",
       "      <td>...</td>\n",
       "    </tr>\n",
       "    <tr>\n",
       "      <th>12019</th>\n",
       "      <td>45.392776</td>\n",
       "      <td>22-49-001</td>\n",
       "      <td>2.0</td>\n",
       "      <td>1.380</td>\n",
       "      <td>25</td>\n",
       "      <td>25.00</td>\n",
       "      <td>3</td>\n",
       "      <td>0.000010</td>\n",
       "    </tr>\n",
       "    <tr>\n",
       "      <th>12020</th>\n",
       "      <td>45.312694</td>\n",
       "      <td>22-49-001</td>\n",
       "      <td>1.0</td>\n",
       "      <td>1.760</td>\n",
       "      <td>25</td>\n",
       "      <td>25.00</td>\n",
       "      <td>4</td>\n",
       "      <td>0.017962</td>\n",
       "    </tr>\n",
       "    <tr>\n",
       "      <th>12021</th>\n",
       "      <td>45.312694</td>\n",
       "      <td>22-49-001</td>\n",
       "      <td>1.0</td>\n",
       "      <td>1.380</td>\n",
       "      <td>25</td>\n",
       "      <td>25.00</td>\n",
       "      <td>3</td>\n",
       "      <td>0.013063</td>\n",
       "    </tr>\n",
       "    <tr>\n",
       "      <th>12022</th>\n",
       "      <td>45.248718</td>\n",
       "      <td>22-49-001</td>\n",
       "      <td>0.0</td>\n",
       "      <td>2.554</td>\n",
       "      <td>25</td>\n",
       "      <td>25.00</td>\n",
       "      <td>4</td>\n",
       "      <td>0.048818</td>\n",
       "    </tr>\n",
       "    <tr>\n",
       "      <th>12023</th>\n",
       "      <td>45.248718</td>\n",
       "      <td>22-49-001</td>\n",
       "      <td>0.0</td>\n",
       "      <td>2.461</td>\n",
       "      <td>25</td>\n",
       "      <td>25.00</td>\n",
       "      <td>3</td>\n",
       "      <td>0.050401</td>\n",
       "    </tr>\n",
       "  </tbody>\n",
       "</table>\n",
       "<p>12024 rows × 8 columns</p>\n",
       "</div>"
      ],
      "text/plain": [
       "              Time Light_engine  Bias_current_mA  Voltage_V  \\\n",
       "0      1153.950177    22-49-001            500.0      3.163   \n",
       "1      1153.950177    22-49-001            500.0      2.938   \n",
       "2      1153.870087    22-49-001            499.0      3.157   \n",
       "3      1153.870087    22-49-001            499.0      2.938   \n",
       "4      1153.806185    22-49-001            498.0      3.152   \n",
       "...            ...          ...              ...        ...   \n",
       "12019    45.392776    22-49-001              2.0      1.380   \n",
       "12020    45.312694    22-49-001              1.0      1.760   \n",
       "12021    45.312694    22-49-001              1.0      1.380   \n",
       "12022    45.248718    22-49-001              0.0      2.554   \n",
       "12023    45.248718    22-49-001              0.0      2.461   \n",
       "\n",
       "       Temperature_Set_C  Temperature_C  Channel  Power_dBm  \n",
       "0                     50          50.07        2   0.052148  \n",
       "1                     50          50.07        1   0.056945  \n",
       "2                     50          50.07        2   0.052165  \n",
       "3                     50          50.07        1   0.056925  \n",
       "4                     50          50.07        2   0.052240  \n",
       "...                  ...            ...      ...        ...  \n",
       "12019                 25          25.00        3   0.000010  \n",
       "12020                 25          25.00        4   0.017962  \n",
       "12021                 25          25.00        3   0.013063  \n",
       "12022                 25          25.00        4   0.048818  \n",
       "12023                 25          25.00        3   0.050401  \n",
       "\n",
       "[12024 rows x 8 columns]"
      ]
     },
     "execution_count": 70,
     "metadata": {},
     "output_type": "execute_result"
    }
   ],
   "source": [
    "meas_df"
   ]
  },
  {
   "cell_type": "code",
   "execution_count": 74,
   "id": "60a1727d-51d9-4dec-ad9b-7c59a050ef2c",
   "metadata": {
    "tags": []
   },
   "outputs": [],
   "source": [
    "meas_df.to_csv(r\"22-49-005_C44_Channel_4.csv\")"
   ]
  },
  {
   "cell_type": "markdown",
   "id": "e6a78ca2-2259-4c82-9779-0fdfc1213d46",
   "metadata": {},
   "source": [
    "## Close Instrument Handles"
   ]
  },
  {
   "cell_type": "code",
   "execution_count": 8,
   "id": "6c59ee1b-b9d0-483d-8e64-4136a87f25f5",
   "metadata": {
    "tags": []
   },
   "outputs": [],
   "source": [
    "pm.close()\n",
    "tec.close()\n",
    "osa.close()\n",
    "ld.close()"
   ]
  },
  {
   "cell_type": "code",
   "execution_count": 75,
   "id": "928034a8-48a4-419e-9e1c-692bbeec1cb0",
   "metadata": {
    "tags": []
   },
   "outputs": [],
   "source": [
    "tec.set_temperature(23)"
   ]
  },
  {
   "cell_type": "code",
   "execution_count": 72,
   "id": "a8036390-e47f-4224-af65-8dc39e76f3f6",
   "metadata": {
    "tags": []
   },
   "outputs": [],
   "source": [
    "ld.set_laser_current(1,0)\n",
    "ld.set_laser_current(2,0)"
   ]
  },
  {
   "cell_type": "code",
   "execution_count": null,
   "id": "ef34fcbc-5ace-433f-a5c1-0c295ca76756",
   "metadata": {},
   "outputs": [],
   "source": []
  }
 ],
 "metadata": {
  "kernelspec": {
   "display_name": "Python 3 (ipykernel)",
   "language": "python",
   "name": "python3"
  },
  "language_info": {
   "codemirror_mode": {
    "name": "ipython",
    "version": 3
   },
   "file_extension": ".py",
   "mimetype": "text/x-python",
   "name": "python",
   "nbconvert_exporter": "python",
   "pygments_lexer": "ipython3",
   "version": "3.11.4"
  }
 },
 "nbformat": 4,
 "nbformat_minor": 5
}
