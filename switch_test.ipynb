{
 "cells": [
  {
   "cell_type": "code",
   "execution_count": 1,
   "metadata": {},
   "outputs": [],
   "source": [
    "from light_engine_characterization.instruments.agiltron import OpticalSwitch\n",
    "from pyvisa import ResourceManager\n",
    "from light_engine_characterization.instruments.arroyo import TECSource5240"
   ]
  },
  {
   "cell_type": "code",
   "execution_count": 2,
   "metadata": {},
   "outputs": [],
   "source": [
    "switch = OpticalSwitch()"
   ]
  },
  {
   "cell_type": "code",
   "execution_count": 4,
   "metadata": {},
   "outputs": [],
   "source": [
    "switch.open()\n",
    "switch.reset()"
   ]
  },
  {
   "cell_type": "code",
   "execution_count": 17,
   "metadata": {},
   "outputs": [],
   "source": [
    "switch.set_channel(7)"
   ]
  },
  {
   "cell_type": "code",
   "execution_count": 2,
   "metadata": {},
   "outputs": [
    {
     "name": "stdout",
     "output_type": "stream",
     "text": [
      "['TCPIP0::10.10.60.150::inst0::INSTR', 'ASRL3::INSTR']\n",
      "TCPIP0::10.10.60.150::inst0::INSTR\n",
      "ANRITSU,MS9740B,6272537851,1.00.05\n",
      "\n",
      "ASRL3::INSTR\n"
     ]
    }
   ],
   "source": [
    "rm = ResourceManager()\n",
    "res = list(rm.list_resources())\n",
    "print(res)\n",
    "\n",
    "for r in res:\n",
    "    print(r)\n",
    "    try:\n",
    "        r = rm.open_resource(r)\n",
    "        print(r.query(\"*IDN?\"))\n",
    "    except:\n",
    "        pass"
   ]
  },
  {
   "cell_type": "code",
   "execution_count": 3,
   "metadata": {},
   "outputs": [
    {
     "name": "stdout",
     "output_type": "stream",
     "text": [
      "50.0\n"
     ]
    }
   ],
   "source": [
    "tec = TECSource5240(\"ASRL3::INSTR\")\n",
    "print(tec.get_temperature())"
   ]
  },
  {
   "cell_type": "code",
   "execution_count": null,
   "metadata": {},
   "outputs": [],
   "source": []
  }
 ],
 "metadata": {
  "kernelspec": {
   "display_name": "base",
   "language": "python",
   "name": "python3"
  },
  "language_info": {
   "codemirror_mode": {
    "name": "ipython",
    "version": 3
   },
   "file_extension": ".py",
   "mimetype": "text/x-python",
   "name": "python",
   "nbconvert_exporter": "python",
   "pygments_lexer": "ipython3",
   "version": "3.12.4"
  }
 },
 "nbformat": 4,
 "nbformat_minor": 2
}
