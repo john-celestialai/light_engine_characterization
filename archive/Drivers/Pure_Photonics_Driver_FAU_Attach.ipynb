{
 "cells": [
  {
   "cell_type": "markdown",
   "id": "21828aca-62c9-4727-a495-538e109c7aa9",
   "metadata": {},
   "source": [
    "## Pure Photonics Driver"
   ]
  },
  {
   "cell_type": "markdown",
   "id": "d616bdbb-983c-44cd-87fa-7b206f7d23e1",
   "metadata": {
    "tags": []
   },
   "source": [
    "### Import Dependencies"
   ]
  },
  {
   "cell_type": "code",
   "execution_count": 2,
   "id": "0bc7fa61-8599-46c1-a7d2-cacd8f375ffb",
   "metadata": {
    "tags": []
   },
   "outputs": [],
   "source": [
    "import pyvisa"
   ]
  },
  {
   "cell_type": "markdown",
   "id": "b4afd1dd-21b5-4490-a328-76782440c6fd",
   "metadata": {},
   "source": [
    "### Define Registers"
   ]
  },
  {
   "cell_type": "code",
   "execution_count": 3,
   "id": "a0c07696-6e97-440c-a285-6de2f87e85ae",
   "metadata": {
    "tags": []
   },
   "outputs": [],
   "source": [
    "REG_Nop=0x00\n",
    "REG_Mfgr=0x02\n",
    "REG_Model=0x03\n",
    "REG_Serial=0x04\n",
    "REG_Release=0x06\n",
    "REG_Gencfg=0x08\n",
    "REG_AeaEar=0x0B\n",
    "REG_Iocap=0x0D\n",
    "REG_Ear=0x10\n",
    "REG_Dlconfig=0x14\n",
    "REG_Dlstatus=0x15\n",
    "REG_Channel=0x30\n",
    "REG_Power=0x31\n",
    "REG_Resena=0x32\n",
    "REG_Grid=0x34\n",
    "REG_Fcf1=0x35\n",
    "REG_Fcf2=0x36\n",
    "REG_LF1=0x40\n",
    "REG_LF2=0x41\n",
    "REG_Oop=0x42\n",
    "REG_Opsl=0x50\n",
    "REG_Opsh=0x51\n",
    "REG_Lfl1=0x52\n",
    "REG_Lfl2=0x53\n",
    "REG_Lfh1=0x54\n",
    "REG_Lfh2=0x55\n",
    "REG_Currents=0x57\n",
    "REG_Temps=0x58\n",
    "REG_Ftf=0x62\n",
    "REG_Channelh=0x65\n",
    "REG_Mode=0x90\n",
    "REG_PW=0xE0\n",
    "REG_Csweepsena=0xE5\n",
    "REG_Csweepamp=0xE4\n",
    "REG_Cscanamp=0xE4\n",
    "REG_Cscanon=0xE5\n",
    "REG_Csweepon=0xE5\n",
    "REG_Csweepoffset=0xE6\n",
    "REG_Cscanoffset=0xE6\n",
    "REG_Cscansled=0xF0\n",
    "REG_Cscanf1=0xF1\n",
    "REG_Cscanf2=0xF2\n",
    "REG_CjumpTHz=0xEA\n",
    "REG_CjumpGHz=0xEB\n",
    "REG_CjumpSled=0xEC\n",
    "REG_Cjumpon=0xED\n",
    "REG_Cjumpoffset=0xE6"
   ]
  },
  {
   "cell_type": "markdown",
   "id": "caa0bd28-61a0-490d-9582-8a7d11484f00",
   "metadata": {},
   "source": [
    "### Define Functions (Driver)"
   ]
  },
  {
   "cell_type": "code",
   "execution_count": 4,
   "id": "9544ef51-e325-4f13-9306-19d10e8d5ed2",
   "metadata": {
    "tags": []
   },
   "outputs": [],
   "source": [
    "def send_command(lsr, register, data=None, signed=False):\n",
    "    \"\"\"Sends commands to a device.\n",
    "    This function takes the hexstring, turns it into a bytestring,\n",
    "    and writes it to the device.\n",
    "    This function should probably be hidden from the user.\n",
    "    :param device: Should be a Serial object that you can write to.\n",
    "    :param hexstring: a hexstring to send to the device\n",
    "    :returns: nothing\n",
    "    \"\"\"\n",
    "    write = (data is not None)\n",
    " \n",
    "    # convert to register to a bytestring\n",
    "    register_bytes = register.to_bytes(1, 'big')\n",
    " \n",
    "    # convert data to bytestring\n",
    "    if write:\n",
    "        data_bytes = data.to_bytes(2, 'big', signed=signed)\n",
    " \n",
    "    else:\n",
    "        data_bytes = (0).to_bytes(2, 'big')\n",
    " \n",
    "    # compute the checksum\n",
    "    checksum = compute_checksum(\n",
    "        (write.to_bytes(1, 'big') + register_bytes + data_bytes).hex()\n",
    "    )\n",
    " \n",
    "    # compute and convery header to bytestring\n",
    "    header = checksum * 16 + write\n",
    "    print(header)\n",
    "    header_bytes = header.to_bytes(1, 'big')\n",
    "    print(header_bytes)\n",
    " \n",
    "    # form full command and send.\n",
    "    command = header_bytes + register_bytes + data_bytes\n",
    "    print(command)\n",
    "    lsr.write_raw(command)\n",
    " \n",
    "def compute_checksum(hexstring):\n",
    "    \"\"\" Computes the command checksum\n",
    "    :param register: the register to write to\n",
    "    :param data: the data to write the register\n",
    "    :param write: whether or not you are writing to the register\n",
    "    :returns: the checksum value\n",
    "    \"\"\"\n",
    "    # get the hexstring for the command without the\n",
    " \n",
    "    byte_list = bytes.fromhex(hexstring)\n",
    " \n",
    "    bip8 = byte_list[0] & 15 ^ byte_list[1] ^ byte_list[2] ^ byte_list[3]\n",
    " \n",
    "    return (bip8 & 240) >> 4 ^ bip8 & 15\n",
    "\n",
    " \n",
    "def get_response(lsr, register):\n",
    "    \"\"\"This function should read from self._device. This should be called\n",
    " \n",
    "    :param register:\n",
    "    :returns: ???\n",
    " \n",
    "    \"\"\"\n",
    "    response = lsr.read_bytes(4)\n",
    " \n",
    "    print(f'response: {response.hex()}')\n",
    " \n",
    "    # get the checksum and ... check it.\n",
    "    checksum = int(response.hex()[0], 16)\n",
    "    computed_checksum = compute_checksum(response.hex())\n",
    "    print(checksum, computed_checksum)\n",
    " \n",
    "    status = int(f'{response[0]:08b}'[-2:], 2)\n",
    "    print(f'status: {status}')\n",
    " \n",
    "    if status==2:\n",
    "        response = read_aea(lsr)\n",
    "        return response\n",
    "    # try:\n",
    "    #     raise _response_status[status]\n",
    " \n",
    "    # except AEAException:\n",
    "    #     response = read_aea()\n",
    "    #     return response\n",
    " \n",
    "    return response[2:]\n",
    " \n",
    "def nop(lsr, data=None):\n",
    "        \"\"\"The No-Op operation.\n",
    " \n",
    "        This is a good test to see if your laser is communicating properly.\n",
    "        It should read 0000 data or echo whatever data you send it if you send it something.\n",
    "        The data you write to nop gets overwritten as soon as you read it back.\n",
    " \n",
    "        `nop()` also returns more informative errors following an ExecutionError.\n",
    "        This is not called by default so you must do this explicitly if you want\n",
    "        to see more informative error information.\n",
    " \n",
    "        :param data: Data to write\n",
    " \n",
    "        \"\"\"\n",
    "        # pretty sure the data does nothing\n",
    "        if data is not None:\n",
    "            response = lsr._nop(data)\n",
    "        else:\n",
    "            response = lsr._nop()\n",
    " \n",
    "        error_field = int(response.hex()[-1], 16)\n",
    "        if bool(error_field):\n",
    "            raise _nop_errors[error_field]"
   ]
  },
  {
   "cell_type": "markdown",
   "id": "3ace7513-c004-47d1-aa4e-f7634ce46220",
   "metadata": {},
   "source": [
    "### Main Routine"
   ]
  },
  {
   "cell_type": "code",
   "execution_count": 7,
   "id": "d289f70d-c242-4689-96e2-da4fc863a9e0",
   "metadata": {
    "tags": []
   },
   "outputs": [
    {
     "name": "stdout",
     "output_type": "stream",
     "text": [
      "('TCPIP0::10.10.60.153::inst0::INSTR', 'TCPIP0::10.10.60.3::inst0::INSTR', 'ASRL9::INSTR', 'ASRL12::INSTR')\n",
      "0\n",
      "b'\\x00'\n",
      "b'\\x00\\x00\\x00\\x00'\n",
      "response: 54000010\n",
      "5 5\n",
      "status: 0\n",
      "129\n",
      "b'\\x81'\n",
      "b'\\x812\\x00\\x08'\n",
      "response: f7320108\n",
      "15 15\n",
      "status: 3\n",
      "64\n",
      "b'@'\n",
      "b'@@\\x00\\x00'\n",
      "response: 544000be\n",
      "5 5\n",
      "status: 0\n",
      "80\n",
      "b'P'\n",
      "b'PA\\x00\\x00'\n",
      "response: 444103e8\n",
      "4 4\n",
      "status: 0\n",
      "96\n",
      "b'`'\n",
      "b'`B\\x00\\x00'\n",
      "response: 6442f830\n",
      "6 6\n",
      "status: 0\n"
     ]
    }
   ],
   "source": [
    "rm = pyvisa.ResourceManager()\n",
    "print(rm.list_resources())\n",
    "lsr=rm.open_resource('ASRL12::INSTR', baud_rate=9600)\n",
    " \n",
    "# print(\"before Nop and send command\")\n",
    "send_command(lsr, REG_Nop, None, False)\n",
    "x=get_response(lsr, REG_Nop)\n",
    " \n",
    "# laser enable\n",
    "data = [0] * 16\n",
    "data[3] = 1\n",
    "data = int(''.join(str(x) for x in data[::-1]), 2)\n",
    "send_command(lsr,REG_Resena,data,False)\n",
    "x=get_response(lsr, REG_Resena)\n",
    "\n",
    "# set frequency\n",
    "send_command(lsr, REG_LF1, None, False)\n",
    "x=get_response(lsr, REG_LF1)\n",
    "send_command(lsr, REG_LF2, None, False)\n",
    "x=get_response(lsr, REG_LF2)\n",
    " \n",
    "# get optical power\n",
    "send_command(lsr,REG_Oop,None,False)\n",
    "x=get_response(lsr, REG_LF2)\n",
    " "
   ]
  },
  {
   "cell_type": "code",
   "execution_count": 8,
   "id": "1b89613a-2351-45aa-b7d5-e50f89d39739",
   "metadata": {
    "tags": []
   },
   "outputs": [
    {
     "name": "stdout",
     "output_type": "stream",
     "text": [
      "145\n",
      "b'\\x91'\n",
      "b'\\x910\\x008'\n",
      "response: 57300100\n",
      "5 5\n",
      "status: 3\n",
      "33\n",
      "b'!'\n",
      "b'!e\\x00\\x00'\n",
      "response: 74650000\n",
      "7 7\n",
      "status: 0\n"
     ]
    }
   ],
   "source": [
    "# set channel to 56\n",
    "channel=0x00000038\n",
    "channel_hex = f'{channel:08x}'\n",
    "channell = int(channel_hex[4:], 16)\n",
    "channelh = int(channel_hex[0:4], 16)\n",
    " \n",
    "send_command(lsr, REG_Channel, channell, False)\n",
    "x=get_response(lsr, REG_Channel)\n",
    " \n",
    "send_command(lsr, REG_Channelh, channelh, False)\n",
    "x=get_response(lsr, REG_Channelh)"
   ]
  },
  {
   "cell_type": "markdown",
   "id": "9770cec8-c5e0-4f20-be9d-bc18003973bc",
   "metadata": {
    "tags": []
   },
   "source": [
    "### End Session/Close laser handle"
   ]
  },
  {
   "cell_type": "code",
   "execution_count": 9,
   "id": "b37b0676-ad0d-44bb-aa11-7f41f32b39dd",
   "metadata": {
    "tags": []
   },
   "outputs": [
    {
     "name": "stdout",
     "output_type": "stream",
     "text": [
      "1\n",
      "b'\\x01'\n",
      "b'\\x012\\x00\\x00'\n",
      "response: 54320000\n",
      "5 5\n",
      "status: 0\n"
     ]
    }
   ],
   "source": [
    "# disable laser\n",
    "send_command(lsr,REG_Resena,0,False)\n",
    "x=get_response(lsr, REG_Resena)\n",
    "lsr.close()"
   ]
  },
  {
   "cell_type": "code",
   "execution_count": null,
   "id": "3e5238c1-6055-4fe1-820d-9eca4890d142",
   "metadata": {},
   "outputs": [],
   "source": []
  }
 ],
 "metadata": {
  "kernelspec": {
   "display_name": "Python 3 (ipykernel)",
   "language": "python",
   "name": "python3"
  },
  "language_info": {
   "codemirror_mode": {
    "name": "ipython",
    "version": 3
   },
   "file_extension": ".py",
   "mimetype": "text/x-python",
   "name": "python",
   "nbconvert_exporter": "python",
   "pygments_lexer": "ipython3",
   "version": "3.11.4"
  }
 },
 "nbformat": 4,
 "nbformat_minor": 5
}
