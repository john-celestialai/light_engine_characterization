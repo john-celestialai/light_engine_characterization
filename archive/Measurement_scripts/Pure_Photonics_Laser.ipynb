{
 "cells": [
  {
   "cell_type": "code",
   "execution_count": 1,
   "id": "2bf3bde9-2e5b-47d5-85f7-df593de19d7f",
   "metadata": {
    "tags": []
   },
   "outputs": [],
   "source": [
    "import sys\n",
    "import os\n",
    "import time\n",
    "import pyvisa\n",
    "import pandas as pd\n",
    "import numpy as np\n",
    "import matplotlib.pyplot as plt\n",
    "from binascii import unhexlify\n",
    "import serial"
   ]
  },
  {
   "cell_type": "code",
   "execution_count": null,
   "id": "1d395e17-c376-4d7c-951a-aff7024031c8",
   "metadata": {
    "tags": []
   },
   "outputs": [],
   "source": [
    "rm = pyvisa.ResourceManager()\n",
    "laser = rm.open_resource('ASRL12::INSTR', baud_rate=9600)"
   ]
  },
  {
   "cell_type": "code",
   "execution_count": 5,
   "id": "31661a78-bd93-412c-bd1f-c85885a56f3c",
   "metadata": {
    "tags": []
   },
   "outputs": [
    {
     "name": "stdout",
     "output_type": "stream",
     "text": [
      "('TCPIP0::10.10.60.153::inst0::INSTR', 'TCPIP0::10.10.60.3::inst0::INSTR', 'ASRL9::INSTR', 'ASRL12::INSTR')\n"
     ]
    }
   ],
   "source": [
    "print(rm.list_resources())"
   ]
  },
  {
   "cell_type": "code",
   "execution_count": 16,
   "id": "06355bad-e9cf-4eda-ba84-cbadbdec8d82",
   "metadata": {
    "tags": []
   },
   "outputs": [],
   "source": [
    "REG_Nop=0x00\n",
    "REG_Mfgr=0x02\n",
    "REG_Model=0x03\n",
    "REG_Serial=0x04\n",
    "REG_Release=0x06\n",
    "REG_Gencfg=0x08\n",
    "REG_AeaEar=0x0B\n",
    "REG_Iocap=0x0D\n",
    "REG_Ear=0x10\n",
    "REG_Dlconfig=0x14\n",
    "REG_Dlstatus=0x15\n",
    "REG_Channel=0x30\n",
    "REG_Power=0x31\n",
    "REG_Resena=0x32\n",
    "REG_Grid=0x34\n",
    "REG_Fcf1=0x35\n",
    "REG_Fcf2=0x36\n",
    "REG_LF1=0x40\n",
    "REG_LF2=0x41\n",
    "REG_Oop=0x42\n",
    "REG_Opsl=0x50\n",
    "REG_Opsh=0x51\n",
    "REG_Lfl1=0x52\n",
    "REG_Lfl2=0x53\n",
    "REG_Lfh1=0x54\n",
    "REG_Lfh2=0x55\n",
    "REG_Currents=0x57\n",
    "REG_Temps=0x58\n",
    "REG_Ftf=0x62\n",
    "REG_Mode=0x90\n",
    "REG_PW=0xE0\n",
    "REG_Csweepsena=0xE5\n",
    "REG_Csweepamp=0xE4\n",
    "REG_Cscanamp=0xE4\n",
    "REG_Cscanon=0xE5\n",
    "REG_Csweepon=0xE5\n",
    "REG_Csweepoffset=0xE6\n",
    "REG_Cscanoffset=0xE6\n",
    "REG_Cscansled=0xF0\n",
    "REG_Cscanf1=0xF1\n",
    "REG_Cscanf2=0xF2\n",
    "REG_CjumpTHz=0xEA\n",
    "REG_CjumpGHz=0xEB\n",
    "REG_CjumpSled=0xEC\n",
    "REG_Cjumpon=0xED\n",
    "REG_Cjumpoffset=0xE6"
   ]
  },
  {
   "cell_type": "code",
   "execution_count": 17,
   "id": "ae4b6f86-6b16-4a0a-8bb7-a05d76ea6e39",
   "metadata": {
    "tags": []
   },
   "outputs": [],
   "source": [
    "def checksum(byte0,byte1,byte2,byte3):\n",
    "    bip8 = (byte0 & 0x0f) ^ byte1 ^ byte2 ^ byte3\n",
    "    bip4 = ((bip8 & 0xf0) >> 4) ^ (bip8 & 0x0f)\n",
    "    return bip4"
   ]
  },
  {
   "cell_type": "markdown",
   "id": "7dcadbb3-5573-4c8a-b8fd-52472af434f8",
   "metadata": {},
   "source": [
    "### Turn Laser ON/OFF"
   ]
  },
  {
   "cell_type": "code",
   "execution_count": 31,
   "id": "63ab136c-50d1-4e4c-aeb6-12d50350cf1a",
   "metadata": {
    "tags": []
   },
   "outputs": [
    {
     "name": "stdout",
     "output_type": "stream",
     "text": [
      "b'\\x11'\n",
      "[Write] Byte 0: 0x11\n",
      "[Write] Byte 1: 0x32\n",
      "[Write] Byte 2: 0x1\n",
      "[Write] Byte 3: 0x0\n",
      "[Read] Byte 0: 0x44\n",
      "[Read] Byte 1: 0x32\n",
      "[Read] Byte 2: 0x1\n",
      "[Read] Byte 3: 0x0\n",
      "256\n",
      "laser on>>>>\n"
     ]
    }
   ],
   "source": [
    "reg = REG_Resena\n",
    "\n",
    "data = 256\n",
    "byte2 = int(data/256)\n",
    "byte3 = int(data-byte2*256)\n",
    "\n",
    "x = int(checksum(1,reg,byte2,byte3))*16+1\n",
    "\n",
    "print(bytes.fromhex('%x' % x))\n",
    "\n",
    "laser.write_raw(bytes.fromhex('%x' % x))\n",
    "laser.write_raw(chr(reg))\n",
    "laser.write_raw(chr(byte2))\n",
    "laser.write_raw(chr(byte3))\n",
    "\n",
    "print(\"[Write] Byte 0:\",hex(ord(bytes.fromhex('%x' % x))))\n",
    "print(\"[Write] Byte 1:\",hex(ord(chr(reg))))\n",
    "print(\"[Write] Byte 2:\",hex(ord((chr(byte2)))))\n",
    "print(\"[Write] Byte 3:\",hex(ord((chr(byte3)))))\n",
    "\n",
    "print(\"[Read] Byte 0:\",hex(ord(laser.read_bytes(1))))\n",
    "print(\"[Read] Byte 1:\",hex(ord(laser.read_bytes(1))))\n",
    "b2 = ord(laser.read_bytes(1))\n",
    "b3 = ord(laser.read_bytes(1))\n",
    "print(\"[Read] Byte 2:\",hex(b2))\n",
    "print(\"[Read] Byte 3:\",hex(b3))\n",
    "\n",
    "print(b2*256+b3)\n",
    "print('laser on>>>>')"
   ]
  },
  {
   "cell_type": "markdown",
   "id": "848e85be-be22-4e3c-a11a-1791d3c5ced6",
   "metadata": {},
   "source": [
    "### Clean Jump"
   ]
  },
  {
   "cell_type": "markdown",
   "id": "965bad95-a515-41f4-b308-797c2aa033eb",
   "metadata": {},
   "source": [
    "#### Turn on \"Whisper Mode\""
   ]
  },
  {
   "cell_type": "code",
   "execution_count": 119,
   "id": "437a369f-b903-414c-94ff-b7dccdf5d5cc",
   "metadata": {
    "tags": []
   },
   "outputs": [
    {
     "name": "stdout",
     "output_type": "stream",
     "text": [
      "b'\\xa1'\n",
      "[Write] Byte 0: 0xa1\n",
      "[Write] Byte 1: 0x90\n",
      "[Write] Byte 2: 0x0\n",
      "[Write] Byte 3: 0x2\n",
      "[Read] Byte 0: 0x0\n",
      "[Read] Byte 1: 0x0\n",
      "[Read] Byte 2: 0xc5\n",
      "[Read] Byte 3: 0x90\n",
      "50576\n",
      "Laser is in *Whisper Mode*\n"
     ]
    }
   ],
   "source": [
    "reg = REG_Mode\n",
    "\n",
    "data = 2\n",
    "byte2 = int(data/256)\n",
    "byte3 = int(data-byte2*256)\n",
    "\n",
    "x = int(checksum(1,reg,byte2,byte3))*16+1\n",
    "\n",
    "print(bytes.fromhex('%x' % x))\n",
    "\n",
    "laser.write_raw(bytes.fromhex('%x' % x))\n",
    "laser.write_raw(b'\\x90')\n",
    "laser.write_raw(chr(byte2))\n",
    "laser.write_raw(chr(byte3))\n",
    "\n",
    "print(\"[Write] Byte 0:\",hex(ord(bytes.fromhex('%x' % x))))\n",
    "print(\"[Write] Byte 1:\",hex(ord(chr(reg))))\n",
    "print(\"[Write] Byte 2:\",hex(ord((chr(byte2)))))\n",
    "print(\"[Write] Byte 3:\",hex(ord((chr(byte3)))))\n",
    "\n",
    "print(\"[Read] Byte 0:\",hex(ord(laser.read_bytes(1))))\n",
    "print(\"[Read] Byte 1:\",hex(ord(laser.read_bytes(1))))\n",
    "b2 = ord(laser.read_bytes(1))\n",
    "b3 = ord(laser.read_bytes(1))\n",
    "print(\"[Read] Byte 2:\",hex(b2))\n",
    "print(\"[Read] Byte 3:\",hex(b3))\n",
    "\n",
    "print(b2*256+b3)\n",
    "print(\"Laser is in *Whisper Mode*\")"
   ]
  },
  {
   "cell_type": "markdown",
   "id": "a508fc53-8fbc-4a5c-8dd2-b49eb7e7fc7b",
   "metadata": {},
   "source": [
    "#### Define FCF and GRID (Freq. start point and Freq. Grid)"
   ]
  },
  {
   "cell_type": "code",
   "execution_count": 52,
   "id": "d2e7f848-5779-4fe8-a8f0-4299a569fdca",
   "metadata": {
    "tags": []
   },
   "outputs": [
    {
     "name": "stdout",
     "output_type": "stream",
     "text": [
      "b'q'\n",
      "[Write] Byte 0: 0x71\n",
      "[Write] Byte 1: 0x35\n",
      "[Write] Byte 2: 0x0\n",
      "[Write] Byte 3: 0xbb\n",
      "[Read] Byte 0: 0x4c\n",
      "[Read] Byte 1: 0x35\n",
      "[Read] Byte 2: 0x0\n",
      "[Read] Byte 3: 0xc2\n"
     ]
    },
    {
     "ename": "TypeError",
     "evalue": "unsupported operand type(s) for &: 'bytes' and 'bytes'",
     "output_type": "error",
     "traceback": [
      "\u001b[1;31m---------------------------------------------------------------------------\u001b[0m",
      "\u001b[1;31mTypeError\u001b[0m                                 Traceback (most recent call last)",
      "Cell \u001b[1;32mIn[52], line 29\u001b[0m\n\u001b[0;32m     26\u001b[0m \u001b[38;5;28mprint\u001b[39m(\u001b[38;5;124m\"\u001b[39m\u001b[38;5;124m[Read] Byte 2:\u001b[39m\u001b[38;5;124m\"\u001b[39m,\u001b[38;5;28mhex\u001b[39m(b2))\n\u001b[0;32m     27\u001b[0m \u001b[38;5;28mprint\u001b[39m(\u001b[38;5;124m\"\u001b[39m\u001b[38;5;124m[Read] Byte 3:\u001b[39m\u001b[38;5;124m\"\u001b[39m,\u001b[38;5;28mhex\u001b[39m(b3))\n\u001b[1;32m---> 29\u001b[0m \u001b[38;5;28mprint\u001b[39m(rb_0[\u001b[38;5;241m1\u001b[39m:\u001b[38;5;241m0\u001b[39m] \u001b[38;5;241m&\u001b[39m \u001b[38;5;124mb\u001b[39m\u001b[38;5;124m'\u001b[39m\u001b[38;5;130;01m\\x03\u001b[39;00m\u001b[38;5;124m'\u001b[39m)\n",
      "\u001b[1;31mTypeError\u001b[0m: unsupported operand type(s) for &: 'bytes' and 'bytes'"
     ]
    }
   ],
   "source": [
    "reg = 0x35\n",
    "\n",
    "data = 187\n",
    "byte2 = int(data/256)\n",
    "byte3 = int(data-byte2*256)\n",
    "\n",
    "x = int(checksum(1,reg,byte2,byte3))*16+1\n",
    "\n",
    "print(bytes.fromhex('%x' % x))\n",
    "\n",
    "laser.write_raw(bytes.fromhex('%x' % x))\n",
    "laser.write_raw(chr(reg))\n",
    "laser.write_raw(chr(byte2))\n",
    "laser.write_raw(chr(byte3).encode(\"UTF-8\"))\n",
    "\n",
    "print(\"[Write] Byte 0:\",hex(ord(bytes.fromhex('%x' % x))))\n",
    "print(\"[Write] Byte 1:\",hex(ord(chr(reg))))\n",
    "print(\"[Write] Byte 2:\",hex(ord((chr(byte2)))))\n",
    "print(\"[Write] Byte 3:\",hex(ord((chr(byte3)))))\n",
    "\n",
    "rb_0 = laser.read_bytes(1)\n",
    "print(\"[Read] Byte 0:\",hex(ord(rb_0)))\n",
    "print(\"[Read] Byte 1:\",hex(ord(laser.read_bytes(1))))\n",
    "b2 = ord(laser.read_bytes(1))\n",
    "b3 = ord(laser.read_bytes(1))\n",
    "print(\"[Read] Byte 2:\",hex(b2))\n",
    "print(\"[Read] Byte 3:\",hex(b3))\n",
    "\n",
    "print(rb_0[1:0] & b'\\x03')"
   ]
  },
  {
   "cell_type": "code",
   "execution_count": null,
   "id": "916487a3-e01f-4b70-83f4-8c7bbcde5074",
   "metadata": {},
   "outputs": [],
   "source": [
    "(int.from_bytes(a, 'big') & int.from_bytes(b, 'big')).to_bytes(max(len(a), len(b)), 'big')"
   ]
  },
  {
   "cell_type": "code",
   "execution_count": 27,
   "id": "1e401b06-0a07-436c-a175-7aaee7cdece5",
   "metadata": {
    "tags": []
   },
   "outputs": [
    {
     "name": "stdout",
     "output_type": "stream",
     "text": [
      "b'Q'\n",
      "[Write] Byte 0: 0x51\n",
      "[Write] Byte 1: 0x36\n",
      "[Write] Byte 2: 0x0\n",
      "[Write] Byte 3: 0x67\n",
      "[Read] Byte 0: 0x4\n",
      "[Read] Byte 1: 0x36\n",
      "[Read] Byte 2: 0x0\n",
      "[Read] Byte 3: 0x67\n",
      "103\n"
     ]
    }
   ],
   "source": [
    "reg = 0x36\n",
    "\n",
    "data = 103\n",
    "byte2 = int(data/256)\n",
    "byte3 = int(data-byte2*256)\n",
    "\n",
    "x = int(checksum(1,reg,byte2,byte3))*16+1\n",
    "\n",
    "print(bytes.fromhex('%x' % x))\n",
    "\n",
    "laser.write_raw(bytes.fromhex('%x' % x))\n",
    "laser.write_raw(chr(reg))\n",
    "laser.write_raw(chr(byte2))\n",
    "laser.write_raw(chr(byte3))\n",
    "\n",
    "print(\"[Write] Byte 0:\",hex(ord(bytes.fromhex('%x' % x))))\n",
    "print(\"[Write] Byte 1:\",hex(ord(chr(reg))))\n",
    "print(\"[Write] Byte 2:\",hex(ord((chr(byte2)))))\n",
    "print(\"[Write] Byte 3:\",hex(ord((chr(byte3)))))\n",
    "\n",
    "print(\"[Read] Byte 0:\",hex(ord(laser.read_bytes(1))))\n",
    "print(\"[Read] Byte 1:\",hex(ord(laser.read_bytes(1))))\n",
    "b2 = ord(laser.read_bytes(1))\n",
    "b3 = ord(laser.read_bytes(1))\n",
    "print(\"[Read] Byte 2:\",hex(b2))\n",
    "print(\"[Read] Byte 3:\",hex(b3))\n",
    "\n",
    "print(b2*256+b3)"
   ]
  },
  {
   "cell_type": "code",
   "execution_count": 12,
   "id": "19228291-cff2-43eb-b03e-79ae697241c5",
   "metadata": {
    "tags": []
   },
   "outputs": [],
   "source": [
    "laser.close()"
   ]
  },
  {
   "cell_type": "code",
   "execution_count": 107,
   "id": "d048f933-4f5d-46e3-a9d9-13667f2b7619",
   "metadata": {
    "tags": []
   },
   "outputs": [
    {
     "data": {
      "text/plain": [
       "1"
      ]
     },
     "execution_count": 107,
     "metadata": {},
     "output_type": "execute_result"
    }
   ],
   "source": [
    "x"
   ]
  },
  {
   "cell_type": "code",
   "execution_count": null,
   "id": "64e29111-1216-4228-a95f-b63056511c27",
   "metadata": {},
   "outputs": [],
   "source": []
  }
 ],
 "metadata": {
  "kernelspec": {
   "display_name": "Python 3 (ipykernel)",
   "language": "python",
   "name": "python3"
  },
  "language_info": {
   "codemirror_mode": {
    "name": "ipython",
    "version": 3
   },
   "file_extension": ".py",
   "mimetype": "text/x-python",
   "name": "python",
   "nbconvert_exporter": "python",
   "pygments_lexer": "ipython3",
   "version": "3.11.4"
  }
 },
 "nbformat": 4,
 "nbformat_minor": 5
}
