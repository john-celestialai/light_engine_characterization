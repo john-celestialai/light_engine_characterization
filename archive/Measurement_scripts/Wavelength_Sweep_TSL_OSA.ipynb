{
 "cells": [
  {
   "cell_type": "markdown",
   "id": "c9d8fb7e-5957-43cb-aa9a-356c76be3737",
   "metadata": {},
   "source": [
    "## Import Dependencies and Open Instrument Handles"
   ]
  },
  {
   "cell_type": "code",
   "execution_count": 1,
   "id": "9ee60d4f-b6c2-4667-af72-220ee181ab1f",
   "metadata": {
    "tags": []
   },
   "outputs": [],
   "source": [
    "import sys\n",
    "import os\n",
    "import time\n",
    "import pyvisa\n",
    "import pandas as pd\n",
    "import numpy as np\n",
    "import matplotlib.pyplot as plt\n",
    "from binascii import unhexlify\n",
    "import serial\n",
    "\n",
    "module_path = os.path.abspath(os.path.join('..'))\n",
    "if module_path not in sys.path:\n",
    "    sys.path.append(module_path+\"\\\\Drivers\")\n",
    "\n",
    "from Driver_OSA_MS9740B import *\n",
    "from Driver_TSL_Goumax import *"
   ]
  },
  {
   "cell_type": "code",
   "execution_count": 42,
   "id": "498cc2c0-d93a-4d3f-83ac-d0f0d444dc77",
   "metadata": {
    "tags": []
   },
   "outputs": [
    {
     "name": "stdout",
     "output_type": "stream",
     "text": [
      "OSA Attenuation Status:  ON\n",
      "\n"
     ]
    }
   ],
   "source": [
    "rm = pyvisa.ResourceManager()\n",
    "osa = OSA_MS9740B()\n",
    "osa.open(rm)\n",
    "tsl = TSL_TLS200()\n",
    "tsl.open(rm)"
   ]
  },
  {
   "cell_type": "markdown",
   "id": "468b25c0-41e5-4050-a029-ebbd3073200f",
   "metadata": {},
   "source": [
    "## Initialization"
   ]
  },
  {
   "cell_type": "code",
   "execution_count": 37,
   "id": "c1ecc951-3127-4ba3-a036-692cf8d1ffc7",
   "metadata": {
    "tags": []
   },
   "outputs": [],
   "source": [
    "wavelength_points = 2001\n",
    "OSA_Resolution = 0.03\n",
    "OSA_VBW = 1000\n",
    "\n",
    "wavelength_start = 1550\n",
    "wavelength_stop = 1600\n",
    "wavelength_step = 5\n",
    "wavelength = np.linspace(wavelength_start,wavelength_stop,int((wavelength_stop-wavelength_start)/wavelength_step)+1)\n",
    "tsl.set_output_on()\n",
    "tsl.set_wavelength(wavelength_start)"
   ]
  },
  {
   "cell_type": "markdown",
   "id": "738f8fb1-53c8-48a8-a4a7-f5c35884df8b",
   "metadata": {},
   "source": [
    "## Define Functions"
   ]
  },
  {
   "cell_type": "code",
   "execution_count": 38,
   "id": "4f60f15f-eac4-451a-b94b-75e9077420af",
   "metadata": {
    "tags": []
   },
   "outputs": [],
   "source": [
    "def sweepOSA(osa, wavelength_target, wavelength_points, OSA_Resolution, OSA_VBW):\n",
    "    osa.set_wavelength(wavelength_target - 50, wavelength_target + 50, wavelength_points)\n",
    "    osa.set_resolution_VBW(OSA_Resolution,OSA_VBW)\n",
    "    osa.sweep_single()\n",
    "    Power_list = osa.get_sweep_result()\n",
    "    Power_list_uW = [None] * len(Power_list)\n",
    "    for i in range(0,len(Power_list)):\n",
    "        Power_list_uW[i] = 10**(float(Power_list[i])/10)*1000 \n",
    "    Wavelength_list = np.linspace(wavelength_target - 50, wavelength_target + 50, wavelength_points)\n",
    "    Wavelength_peak_nm, Power_peak_dBm = osa.get_peak()   \n",
    "    if Power_peak_dBm >= -30:\n",
    "        SMSR_Linewidth_nm, SMSR_dB = osa.get_SMSR()\n",
    "        Linewidth_3db_nm = osa.get_linewidth(3)\n",
    "        Linewidth_20db_nm = osa.get_linewidth(20)\n",
    "    else:\n",
    "        SMSR_Linewidth_nm, SMSR_dB = 0, 0\n",
    "        Linewidth_3db_nm = 0\n",
    "        Linewidth_20db_nm = 0\n",
    "    return  Wavelength_list, Power_list, Power_list_uW, Wavelength_peak_nm, Power_peak_dBm, SMSR_Linewidth_nm, SMSR_dB, Linewidth_3db_nm, Linewidth_20db_nm"
   ]
  },
  {
   "cell_type": "markdown",
   "id": "02135050-5d30-4d38-9c50-311afcae9396",
   "metadata": {},
   "source": [
    "## Measurement Routine"
   ]
  },
  {
   "cell_type": "code",
   "execution_count": 39,
   "id": "55c23800-0b75-424f-a12e-20f51a957a31",
   "metadata": {
    "tags": []
   },
   "outputs": [],
   "source": [
    "meas_df = pd.DataFrame()\n",
    "SOA_bias_mA = 550\n",
    "for i in range(0,len(wavelength)):\n",
    "    tsl.set_wavelength(wavelength[i])\n",
    "    time.sleep(0.1)\n",
    "    Wavelength_list, Power_list, Power_list_uW, Wavelength_peak_nm, Power_peak_dBm, SMSR_Linewidth_nm, SMSR_dB, Linewidth_3db_nm, Linewidth_20db_nm = sweepOSA(osa, wavelength[i], wavelength_points, OSA_Resolution, OSA_VBW)\n",
    "    meas_df_temp = pd.DataFrame({'TSL_wavelength_target': wavelength[i],'OSA_wavelength_nm':Wavelength_list, 'OSA_power_dBm':Power_list, 'OSA_power_uW':Power_list_uW, 'OSA_wavelength_peak_nm':Wavelength_peak_nm, 'OSA_power_peak_nm':Power_peak_dBm, 'SMSR_dB':SMSR_dB, 'SMSR_linewidth_nm':SMSR_Linewidth_nm,\n",
    "                                '3dB_linewidth_nm':Linewidth_3db_nm, '20dB_linewidth_nm':Linewidth_20db_nm})\n",
    "    data = [meas_df_temp, meas_df]\n",
    "    meas_df = pd.concat(data,ignore_index=True,sort=False)"
   ]
  },
  {
   "cell_type": "code",
   "execution_count": 40,
   "id": "ad329a70-2350-48bb-aa40-47418e528132",
   "metadata": {
    "tags": []
   },
   "outputs": [],
   "source": [
    "meas_df.to_csv(r\"TSL_SOA_VOA_500mA_25C_R2.csv\")"
   ]
  },
  {
   "cell_type": "code",
   "execution_count": 44,
   "id": "4ed1923d-a20f-4e27-9686-a7bf8dc061e5",
   "metadata": {
    "tags": []
   },
   "outputs": [],
   "source": [
    "tsl.close()\n",
    "osa.close()"
   ]
  },
  {
   "cell_type": "code",
   "execution_count": 33,
   "id": "3d74f6c8-b3af-44cf-90f1-1f2beffb499d",
   "metadata": {},
   "outputs": [
    {
     "data": {
      "text/html": [
       "<div>\n",
       "<style scoped>\n",
       "    .dataframe tbody tr th:only-of-type {\n",
       "        vertical-align: middle;\n",
       "    }\n",
       "\n",
       "    .dataframe tbody tr th {\n",
       "        vertical-align: top;\n",
       "    }\n",
       "\n",
       "    .dataframe thead th {\n",
       "        text-align: right;\n",
       "    }\n",
       "</style>\n",
       "<table border=\"1\" class=\"dataframe\">\n",
       "  <thead>\n",
       "    <tr style=\"text-align: right;\">\n",
       "      <th></th>\n",
       "      <th>TSL_wavelength_target</th>\n",
       "      <th>OSA_wavelength_nm</th>\n",
       "      <th>OSA_power_dBm</th>\n",
       "      <th>OSA_power_uW</th>\n",
       "      <th>OSA_wavelength_peak_nm</th>\n",
       "      <th>OSA_power_peak_nm</th>\n",
       "      <th>SMSR_dB</th>\n",
       "      <th>SMSR_linewidth_nm</th>\n",
       "      <th>3dB_linewidth_nm</th>\n",
       "      <th>20dB_linewidth_nm</th>\n",
       "    </tr>\n",
       "  </thead>\n",
       "  <tbody>\n",
       "    <tr>\n",
       "      <th>0</th>\n",
       "      <td>1553.0</td>\n",
       "      <td>1548.000</td>\n",
       "      <td>-64.62</td>\n",
       "      <td>0.000345</td>\n",
       "      <td>1553.1</td>\n",
       "      <td>15.68</td>\n",
       "      <td>57.00</td>\n",
       "      <td>48.05</td>\n",
       "      <td>0.143</td>\n",
       "      <td>0.052</td>\n",
       "    </tr>\n",
       "    <tr>\n",
       "      <th>1</th>\n",
       "      <td>1553.0</td>\n",
       "      <td>1548.005</td>\n",
       "      <td>-58.97</td>\n",
       "      <td>0.001268</td>\n",
       "      <td>1553.1</td>\n",
       "      <td>15.68</td>\n",
       "      <td>57.00</td>\n",
       "      <td>48.05</td>\n",
       "      <td>0.143</td>\n",
       "      <td>0.052</td>\n",
       "    </tr>\n",
       "    <tr>\n",
       "      <th>2</th>\n",
       "      <td>1553.0</td>\n",
       "      <td>1548.010</td>\n",
       "      <td>-54.3</td>\n",
       "      <td>0.003715</td>\n",
       "      <td>1553.1</td>\n",
       "      <td>15.68</td>\n",
       "      <td>57.00</td>\n",
       "      <td>48.05</td>\n",
       "      <td>0.143</td>\n",
       "      <td>0.052</td>\n",
       "    </tr>\n",
       "    <tr>\n",
       "      <th>3</th>\n",
       "      <td>1553.0</td>\n",
       "      <td>1548.015</td>\n",
       "      <td>-54.05</td>\n",
       "      <td>0.003936</td>\n",
       "      <td>1553.1</td>\n",
       "      <td>15.68</td>\n",
       "      <td>57.00</td>\n",
       "      <td>48.05</td>\n",
       "      <td>0.143</td>\n",
       "      <td>0.052</td>\n",
       "    </tr>\n",
       "    <tr>\n",
       "      <th>4</th>\n",
       "      <td>1553.0</td>\n",
       "      <td>1548.020</td>\n",
       "      <td>-54.41</td>\n",
       "      <td>0.003622</td>\n",
       "      <td>1553.1</td>\n",
       "      <td>15.68</td>\n",
       "      <td>57.00</td>\n",
       "      <td>48.05</td>\n",
       "      <td>0.143</td>\n",
       "      <td>0.052</td>\n",
       "    </tr>\n",
       "    <tr>\n",
       "      <th>...</th>\n",
       "      <td>...</td>\n",
       "      <td>...</td>\n",
       "      <td>...</td>\n",
       "      <td>...</td>\n",
       "      <td>...</td>\n",
       "      <td>...</td>\n",
       "      <td>...</td>\n",
       "      <td>...</td>\n",
       "      <td>...</td>\n",
       "      <td>...</td>\n",
       "    </tr>\n",
       "    <tr>\n",
       "      <th>7999</th>\n",
       "      <td>1550.0</td>\n",
       "      <td>1554.980</td>\n",
       "      <td>-41.65</td>\n",
       "      <td>0.068391</td>\n",
       "      <td>1550.1</td>\n",
       "      <td>16.68</td>\n",
       "      <td>58.05</td>\n",
       "      <td>47.65</td>\n",
       "      <td>0.135</td>\n",
       "      <td>0.135</td>\n",
       "    </tr>\n",
       "    <tr>\n",
       "      <th>8000</th>\n",
       "      <td>1550.0</td>\n",
       "      <td>1554.985</td>\n",
       "      <td>-41.6</td>\n",
       "      <td>0.069183</td>\n",
       "      <td>1550.1</td>\n",
       "      <td>16.68</td>\n",
       "      <td>58.05</td>\n",
       "      <td>47.65</td>\n",
       "      <td>0.135</td>\n",
       "      <td>0.135</td>\n",
       "    </tr>\n",
       "    <tr>\n",
       "      <th>8001</th>\n",
       "      <td>1550.0</td>\n",
       "      <td>1554.990</td>\n",
       "      <td>-41.57</td>\n",
       "      <td>0.069663</td>\n",
       "      <td>1550.1</td>\n",
       "      <td>16.68</td>\n",
       "      <td>58.05</td>\n",
       "      <td>47.65</td>\n",
       "      <td>0.135</td>\n",
       "      <td>0.135</td>\n",
       "    </tr>\n",
       "    <tr>\n",
       "      <th>8002</th>\n",
       "      <td>1550.0</td>\n",
       "      <td>1554.995</td>\n",
       "      <td>-41.45</td>\n",
       "      <td>0.071614</td>\n",
       "      <td>1550.1</td>\n",
       "      <td>16.68</td>\n",
       "      <td>58.05</td>\n",
       "      <td>47.65</td>\n",
       "      <td>0.135</td>\n",
       "      <td>0.135</td>\n",
       "    </tr>\n",
       "    <tr>\n",
       "      <th>8003</th>\n",
       "      <td>1550.0</td>\n",
       "      <td>1555.000</td>\n",
       "      <td>-41.41</td>\n",
       "      <td>0.072277</td>\n",
       "      <td>1550.1</td>\n",
       "      <td>16.68</td>\n",
       "      <td>58.05</td>\n",
       "      <td>47.65</td>\n",
       "      <td>0.135</td>\n",
       "      <td>0.135</td>\n",
       "    </tr>\n",
       "  </tbody>\n",
       "</table>\n",
       "<p>8004 rows × 10 columns</p>\n",
       "</div>"
      ],
      "text/plain": [
       "      TSL_wavelength_target  OSA_wavelength_nm OSA_power_dBm  OSA_power_uW  \\\n",
       "0                    1553.0           1548.000        -64.62      0.000345   \n",
       "1                    1553.0           1548.005        -58.97      0.001268   \n",
       "2                    1553.0           1548.010         -54.3      0.003715   \n",
       "3                    1553.0           1548.015        -54.05      0.003936   \n",
       "4                    1553.0           1548.020        -54.41      0.003622   \n",
       "...                     ...                ...           ...           ...   \n",
       "7999                 1550.0           1554.980        -41.65      0.068391   \n",
       "8000                 1550.0           1554.985         -41.6      0.069183   \n",
       "8001                 1550.0           1554.990        -41.57      0.069663   \n",
       "8002                 1550.0           1554.995        -41.45      0.071614   \n",
       "8003                 1550.0           1555.000        -41.41      0.072277   \n",
       "\n",
       "      OSA_wavelength_peak_nm  OSA_power_peak_nm  SMSR_dB  SMSR_linewidth_nm  \\\n",
       "0                     1553.1              15.68    57.00              48.05   \n",
       "1                     1553.1              15.68    57.00              48.05   \n",
       "2                     1553.1              15.68    57.00              48.05   \n",
       "3                     1553.1              15.68    57.00              48.05   \n",
       "4                     1553.1              15.68    57.00              48.05   \n",
       "...                      ...                ...      ...                ...   \n",
       "7999                  1550.1              16.68    58.05              47.65   \n",
       "8000                  1550.1              16.68    58.05              47.65   \n",
       "8001                  1550.1              16.68    58.05              47.65   \n",
       "8002                  1550.1              16.68    58.05              47.65   \n",
       "8003                  1550.1              16.68    58.05              47.65   \n",
       "\n",
       "      3dB_linewidth_nm  20dB_linewidth_nm  \n",
       "0                0.143              0.052  \n",
       "1                0.143              0.052  \n",
       "2                0.143              0.052  \n",
       "3                0.143              0.052  \n",
       "4                0.143              0.052  \n",
       "...                ...                ...  \n",
       "7999             0.135              0.135  \n",
       "8000             0.135              0.135  \n",
       "8001             0.135              0.135  \n",
       "8002             0.135              0.135  \n",
       "8003             0.135              0.135  \n",
       "\n",
       "[8004 rows x 10 columns]"
      ]
     },
     "execution_count": 33,
     "metadata": {},
     "output_type": "execute_result"
    }
   ],
   "source": [
    "meas_df"
   ]
  },
  {
   "cell_type": "code",
   "execution_count": 10,
   "id": "d7041dce-9267-4bed-9c71-f6c4e457c8ff",
   "metadata": {
    "tags": []
   },
   "outputs": [],
   "source": [
    "tsl.set_wavelength(1550)"
   ]
  },
  {
   "cell_type": "code",
   "execution_count": 43,
   "id": "b92c66f3-49b3-49c8-b6c7-05b6eea45453",
   "metadata": {
    "tags": []
   },
   "outputs": [],
   "source": [
    "tsl.set_output_off()"
   ]
  },
  {
   "cell_type": "code",
   "execution_count": 19,
   "id": "af1bb2bf-b168-4f7e-867e-010119f9193f",
   "metadata": {},
   "outputs": [
    {
     "data": {
      "text/plain": [
       "15"
      ]
     },
     "execution_count": 19,
     "metadata": {},
     "output_type": "execute_result"
    }
   ],
   "source": [
    "osa.osa.write(f\"CENTER {wavelength[i]}\")"
   ]
  },
  {
   "cell_type": "code",
   "execution_count": null,
   "id": "e2be5ba8-f19a-4f84-8be9-ab36f2c7c343",
   "metadata": {},
   "outputs": [],
   "source": []
  }
 ],
 "metadata": {
  "kernelspec": {
   "display_name": "Python 3 (ipykernel)",
   "language": "python",
   "name": "python3"
  },
  "language_info": {
   "codemirror_mode": {
    "name": "ipython",
    "version": 3
   },
   "file_extension": ".py",
   "mimetype": "text/x-python",
   "name": "python",
   "nbconvert_exporter": "python",
   "pygments_lexer": "ipython3",
   "version": "3.11.4"
  }
 },
 "nbformat": 4,
 "nbformat_minor": 5
}
