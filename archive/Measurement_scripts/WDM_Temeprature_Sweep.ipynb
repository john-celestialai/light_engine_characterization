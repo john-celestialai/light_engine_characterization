{
 "cells": [
  {
   "cell_type": "code",
   "execution_count": 1,
   "id": "7dde51b4-7648-4001-b75a-193ee5f58515",
   "metadata": {
    "tags": []
   },
   "outputs": [],
   "source": [
    "import sys\n",
    "import os\n",
    "import time\n",
    "import pyvisa\n",
    "import pandas as pd\n",
    "import numpy as np\n",
    "import matplotlib.pyplot as plt\n",
    "from binascii import unhexlify\n",
    "import serial\n",
    " \n",
    "module_path = os.path.abspath(os.path.join('..'))\n",
    "if module_path not in sys.path:\n",
    "    sys.path.append(module_path+\"\\\\Drivers\")\n",
    "\n",
    "from Driver_TECSource_5240 import *\n",
    "from Driver_PM_PM5020 import *\n",
    "from Driver_OSA_MS9740B import *\n",
    "from Driver_LaserSource_71440108 import *\n",
    "from Driver_TSL_Goumax import *"
   ]
  },
  {
   "cell_type": "code",
   "execution_count": 2,
   "id": "9416b7c2-d5c2-490b-8c1e-c08a7f9ea9f5",
   "metadata": {
    "tags": []
   },
   "outputs": [
    {
     "name": "stdout",
     "output_type": "stream",
     "text": [
      "OSA Attenuation Status:  ON\n",
      "\n"
     ]
    }
   ],
   "source": [
    "rm = pyvisa.ResourceManager()\n",
    "\n",
    "tec_zeus = TECSource_5240()\n",
    "tec_zeus.open(rm,'ASRL15::INSTR')\n",
    "\n",
    "tec_le = TECSource_5240()\n",
    "tec_le.open(rm,'ASRL5::INSTR')\n",
    "\n",
    "pm = PM_PM5020()\n",
    "pm.open(rm)\n",
    "\n",
    "osa = OSA_MS9740B()\n",
    "osa.open(rm)\n",
    "\n",
    "ld = LaserSource_71440108()\n",
    "ld.open(rm)"
   ]
  },
  {
   "cell_type": "code",
   "execution_count": 3,
   "id": "b88a3106-1943-46e9-a777-73c7d91e1757",
   "metadata": {
    "tags": []
   },
   "outputs": [],
   "source": [
    "ld.set_output_on(1)"
   ]
  },
  {
   "cell_type": "code",
   "execution_count": 120,
   "id": "367d68e1-c4ad-4ff8-9aee-8db068fbb60b",
   "metadata": {
    "tags": []
   },
   "outputs": [],
   "source": [
    "tec_le.set_temperature(45)\n",
    "tec_le.set_output_on()"
   ]
  },
  {
   "cell_type": "code",
   "execution_count": 190,
   "id": "6cba2717-10f9-47a7-b48d-73ac7a01f757",
   "metadata": {
    "tags": []
   },
   "outputs": [],
   "source": [
    "T_Start = 23\n",
    "T_Stop = 55\n",
    "T_Step = 0.2\n",
    "t_wait = 5\n",
    "n = int((T_Stop-T_Start)/T_Step+1)\n",
    "pm.set_units(1,\"W\")\n",
    "\n",
    "wavelength_start = 1565\n",
    "wavelength_stop = 1585\n",
    "wavelength_points = 2001\n",
    "OSA_Resolution = 0.03\n",
    "OSA_VBW = 1000\n",
    "timeout = 10000\n",
    "\n",
    "Light_engine = \"22-49-001\"\n",
    "Channel = 4\n",
    "\n",
    "Bias_current_mA = 50\n",
    "osa.set_timeout(20000)"
   ]
  },
  {
   "cell_type": "code",
   "execution_count": 5,
   "id": "08edd9b6-4524-4c47-a7b2-a4a855cd7afb",
   "metadata": {
    "tags": []
   },
   "outputs": [],
   "source": [
    "def sweepOSA(osa, wavelength_start, wavelength_stop, wavelength_points, OSA_Resolution, OSA_VBW):\n",
    "    osa.set_wavelength(wavelength_start, wavelength_stop, wavelength_points)\n",
    "    osa.set_resolution_VBW(OSA_Resolution,OSA_VBW)\n",
    "    osa.sweep_single()\n",
    "    Power_list = osa.get_sweep_result()\n",
    "    Power_list_uW = [None] * len(Power_list)\n",
    "    for i in range(0,len(Power_list)):\n",
    "        Power_list_uW[i] = 10**(float(Power_list[i])/10)*1000 \n",
    "    Wavelength_list = np.linspace(wavelength_start,wavelength_stop,wavelength_points)\n",
    "    Wavelength_peak_nm, Power_peak_dBm = osa.get_peak()   \n",
    "    if Power_peak_dBm >= -30:\n",
    "        SMSR_Linewidth_nm, SMSR_dB = osa.get_SMSR()\n",
    "        Linewidth_3db_nm = osa.get_linewidth(3)\n",
    "        Linewidth_20db_nm = osa.get_linewidth(20)\n",
    "    else:\n",
    "        SMSR_Linewidth_nm, SMSR_dB = 0, 0\n",
    "        Linewidth_3db_nm = 0\n",
    "        Linewidth_20db_nm = 0\n",
    "    return  Wavelength_list, Power_list, Power_list_uW, Wavelength_peak_nm, Power_peak_dBm, SMSR_Linewidth_nm, SMSR_dB, Linewidth_3db_nm, Linewidth_20db_nm"
   ]
  },
  {
   "cell_type": "code",
   "execution_count": 6,
   "id": "edc63ba7-0550-4e81-9576-48652690a4a2",
   "metadata": {
    "tags": []
   },
   "outputs": [],
   "source": [
    "def sweepOSA_Tx(osa, wavelength_start, wavelength_stop, wavelength_points, OSA_Resolution, OSA_VBW):\n",
    "    osa.set_wavelength(wavelength_start, wavelength_stop, wavelength_points)\n",
    "    osa.set_resolution_VBW(OSA_Resolution,OSA_VBW)\n",
    "    osa.sweep_single()\n",
    "    Power_list = osa.get_sweep_result()\n",
    "    Power_list_uW = [None] * len(Power_list)\n",
    "    for i in range(0,len(Power_list)):\n",
    "        Power_list_uW[i] = 10**(float(Power_list[i])/10)*1000 \n",
    "    Wavelength_list = np.linspace(wavelength_start,wavelength_stop,wavelength_points)\n",
    "    Wavelength_peak_1_nm, Power_peak_1_dBm, Wavelength_peak_2_nm, Power_peak_2_dBm, Wavelength_peak_3_nm, Power_peak_3_dBm = osa.get_3_peaks()   \n",
    "    if Power_peak_1_dBm >= -30:\n",
    "        SMSR_Linewidth_nm, SMSR_dB = osa.get_SMSR()\n",
    "        Linewidth_3db_nm = osa.get_linewidth(3)\n",
    "        Linewidth_20db_nm = osa.get_linewidth(20)\n",
    "    else:\n",
    "        SMSR_Linewidth_nm, SMSR_dB = 0, 0\n",
    "        Linewidth_3db_nm = 0\n",
    "        Linewidth_20db_nm = 0\n",
    "    return  Wavelength_list, Power_list, Power_list_uW, Wavelength_peak_1_nm, Power_peak_1_dBm, Wavelength_peak_2_nm, Power_peak_2_dBm, Wavelength_peak_3_nm, Power_peak_3_dBm, SMSR_Linewidth_nm, SMSR_dB, Linewidth_3db_nm, Linewidth_20db_nm"
   ]
  },
  {
   "cell_type": "code",
   "execution_count": 194,
   "id": "7a436db8-f39e-455c-b103-109dc1321ae8",
   "metadata": {
    "tags": []
   },
   "outputs": [],
   "source": [
    "meas_df = pd.DataFrame()\n",
    "Voltage_V = ld.get_laser_voltage(Channel)\n",
    "Temperature = tec_le.get_temperature()\n",
    "Wavelength_list, Power_list, Power_list_uW, Wavelength_peak_nm, Power_peak_dBm, SMSR_Linewidth_nm, SMSR_dB, Linewidth_3db_nm, Linewidth_20db_nm = sweepOSA(osa, wavelength_start, wavelength_stop, wavelength_points, OSA_Resolution, OSA_VBW)\n",
    "meas_df_temp = pd.DataFrame({'Light_engine':Light_engine, 'Channel':Channel, 'Bias_current_mA':Bias_current_mA, 'Voltage_V':Voltage_V, 'Temeprature_C':Temperature, 'Wavelength_nm':Wavelength_list, 'Power_dBm':Power_list, \n",
    "                            'Power_uW':Power_list_uW, 'Wavelength_peak_nm':Wavelength_peak_nm, 'Power_peak_nm':Power_peak_dBm, 'SMSR_dB':SMSR_dB, 'SMSR_linewidth_nm':SMSR_Linewidth_nm,\n",
    "                            '3dB_linewidth_nm':Linewidth_3db_nm, '20dB_linewidth_nm':Linewidth_20db_nm})\n",
    "data = [meas_df_temp, meas_df]\n",
    "meas_df = pd.concat(data,ignore_index=True,sort=False)"
   ]
  },
  {
   "cell_type": "code",
   "execution_count": 197,
   "id": "5901c158-7849-4b74-8cf4-041cdc49a500",
   "metadata": {
    "tags": []
   },
   "outputs": [],
   "source": [
    "ld.set_output_off(1)\n",
    "ld.set_output_off(2)\n",
    "ld.set_output_off(3)\n",
    "ld.set_output_off(4)"
   ]
  },
  {
   "cell_type": "code",
   "execution_count": 180,
   "id": "5c3f76c1-53fa-4941-ba6b-1eb899465764",
   "metadata": {
    "tags": []
   },
   "outputs": [],
   "source": [
    "ld.set_output_on(1)\n",
    "ld.set_output_on(2)\n",
    "ld.set_output_on(3)\n",
    "ld.set_output_on(4)"
   ]
  },
  {
   "cell_type": "code",
   "execution_count": 101,
   "id": "568a2bea-e479-4780-bc49-15f94a2add79",
   "metadata": {
    "tags": []
   },
   "outputs": [],
   "source": [
    "ld.set_laser_current(1,50)"
   ]
  },
  {
   "cell_type": "code",
   "execution_count": 195,
   "id": "697ea9a4-4bc0-41a8-959a-bfb62a8f4863",
   "metadata": {
    "tags": []
   },
   "outputs": [],
   "source": [
    "meas_df.to_csv(r\"Channel_4_Bias_50_T_45.csv\")"
   ]
  },
  {
   "cell_type": "code",
   "execution_count": 134,
   "id": "ee752eb1-c2da-4b70-af8b-a7f005133b53",
   "metadata": {
    "tags": []
   },
   "outputs": [],
   "source": [
    "tec_zeus.set_output_on()\n",
    "tec_zeus.set_temperature(30) #40.6"
   ]
  },
  {
   "cell_type": "code",
   "execution_count": 169,
   "id": "0499ce73-b5eb-4808-bf53-ca2b0dcdcfce",
   "metadata": {
    "tags": []
   },
   "outputs": [],
   "source": [
    "T_Start = 30\n",
    "T_Stop = 50\n",
    "T_Step = 0.2\n",
    "t_wait = 5\n",
    "n = int((T_Stop-T_Start)/T_Step+1)\n",
    "pm.set_units(1,\"W\")"
   ]
  },
  {
   "cell_type": "markdown",
   "id": "ee2aa915-6724-412b-b800-8d21c39cfd99",
   "metadata": {},
   "source": [
    "## Measurement Routine (Steady State)"
   ]
  },
  {
   "cell_type": "code",
   "execution_count": 161,
   "id": "24818b30-4f7e-4845-b58e-7b2f9749a312",
   "metadata": {
    "tags": []
   },
   "outputs": [],
   "source": [
    "meas_df = pd.DataFrame()\n",
    "t0 = time.time()\n",
    "for k in range(0,350,1):\n",
    "    time.sleep(0.25)\n",
    "    T_read = tec_zeus.get_temperature()\n",
    "    Power_read = pm.get_power(1)\n",
    "    t_meas = time.time()-t0\n",
    "    dict = {'Time_s':t_meas,'Temperature_C':T_read ,\"Power_W\":Power_read}\n",
    "    meas_df_temp = pd.DataFrame([dict])\n",
    "    data = [meas_df_temp, meas_df]\n",
    "    meas_df = pd.concat(data,ignore_index=True,sort=False)"
   ]
  },
  {
   "cell_type": "markdown",
   "id": "f1d8fe7f-1c8f-4d5c-a48f-e3938852b46d",
   "metadata": {},
   "source": [
    "## View Plot and Save Data"
   ]
  },
  {
   "cell_type": "code",
   "execution_count": 162,
   "id": "ee6b1e15-e117-47d0-9c0c-3133e4770aed",
   "metadata": {
    "tags": []
   },
   "outputs": [],
   "source": [
    "meas_df.to_csv(r\"Power_TX_Temp_45_Lane_23_DC_2.csv\")"
   ]
  },
  {
   "cell_type": "code",
   "execution_count": 163,
   "id": "42960084-4da2-4f17-b521-867c8918d564",
   "metadata": {
    "tags": []
   },
   "outputs": [
    {
     "data": {
      "text/plain": [
       "[<matplotlib.lines.Line2D at 0x1ab96211650>]"
      ]
     },
     "execution_count": 163,
     "metadata": {},
     "output_type": "execute_result"
    },
    {
     "data": {
      "image/png": "[encoded data removed]",
      "text/plain": [
       "<Figure size 640x480 with 1 Axes>"
      ]
     },
     "metadata": {},
     "output_type": "display_data"
    }
   ],
   "source": [
    "plt.plot(meas_df.Time_s,meas_df.Power_W)"
   ]
  },
  {
   "cell_type": "markdown",
   "id": "18d43549-a1b2-44ba-b738-fa6189802834",
   "metadata": {},
   "source": [
    "## Measurement Routine (Temperature Ramp)"
   ]
  },
  {
   "cell_type": "code",
   "execution_count": 170,
   "id": "f862c6b9-90fd-4117-b88f-c70ee7cd5e85",
   "metadata": {
    "tags": []
   },
   "outputs": [],
   "source": [
    "meas_df = pd.DataFrame()\n",
    "t0 = time.time()"
   ]
  },
  {
   "cell_type": "code",
   "execution_count": 171,
   "id": "fcf5a397-2c82-41e5-8346-f4904ad5209f",
   "metadata": {
    "tags": []
   },
   "outputs": [],
   "source": [
    "t1 = time.time()\n",
    "for k in range(0,n+1,1):\n",
    "    T_Set = T_Start+k*T_Step\n",
    "    tec_zeus.set_temperature(T_Set)\n",
    "    time.sleep(t_wait)\n",
    "    T_read = tec_zeus.get_temperature()\n",
    "    Power_read = pm.get_power(1)\n",
    "    t_meas = time.time()-t0\n",
    "    dict = {'Time_s':t_meas, 'T_Wait_s':t_wait ,'Temperature_C':T_read ,\"Power_W\":Power_read}\n",
    "    meas_df_temp = pd.DataFrame([dict])\n",
    "    data = [meas_df_temp, meas_df]\n",
    "    meas_df = pd.concat(data,ignore_index=True,sort=False)"
   ]
  },
  {
   "cell_type": "code",
   "execution_count": 176,
   "id": "91cf015a-2fa1-46db-a0dd-97cf3240b2ba",
   "metadata": {
    "tags": []
   },
   "outputs": [],
   "source": [
    "tec_zeus.set_temperature(30)\n",
    "tec_zeus.set_output_off()"
   ]
  },
  {
   "cell_type": "markdown",
   "id": "b2caa5f6-f244-40ba-bd66-dc190bf73c55",
   "metadata": {},
   "source": [
    "## View, Plot and Save Data"
   ]
  },
  {
   "cell_type": "code",
   "execution_count": 172,
   "id": "155f1c57-1d7d-453c-8c89-a6ad62155d93",
   "metadata": {
    "tags": []
   },
   "outputs": [
    {
     "data": {
      "text/html": [
       "<div>\n",
       "<style scoped>\n",
       "    .dataframe tbody tr th:only-of-type {\n",
       "        vertical-align: middle;\n",
       "    }\n",
       "\n",
       "    .dataframe tbody tr th {\n",
       "        vertical-align: top;\n",
       "    }\n",
       "\n",
       "    .dataframe thead th {\n",
       "        text-align: right;\n",
       "    }\n",
       "</style>\n",
       "<table border=\"1\" class=\"dataframe\">\n",
       "  <thead>\n",
       "    <tr style=\"text-align: right;\">\n",
       "      <th></th>\n",
       "      <th>Time_s</th>\n",
       "      <th>T_Wait_s</th>\n",
       "      <th>Temperature_C</th>\n",
       "      <th>Power_W</th>\n",
       "    </tr>\n",
       "  </thead>\n",
       "  <tbody>\n",
       "    <tr>\n",
       "      <th>0</th>\n",
       "      <td>512.882466</td>\n",
       "      <td>5</td>\n",
       "      <td>50.04</td>\n",
       "      <td>0.000028</td>\n",
       "    </tr>\n",
       "    <tr>\n",
       "      <th>1</th>\n",
       "      <td>507.864933</td>\n",
       "      <td>5</td>\n",
       "      <td>50.05</td>\n",
       "      <td>0.000029</td>\n",
       "    </tr>\n",
       "    <tr>\n",
       "      <th>2</th>\n",
       "      <td>502.841808</td>\n",
       "      <td>5</td>\n",
       "      <td>49.85</td>\n",
       "      <td>0.000028</td>\n",
       "    </tr>\n",
       "    <tr>\n",
       "      <th>3</th>\n",
       "      <td>497.821248</td>\n",
       "      <td>5</td>\n",
       "      <td>49.65</td>\n",
       "      <td>0.000029</td>\n",
       "    </tr>\n",
       "    <tr>\n",
       "      <th>4</th>\n",
       "      <td>492.796457</td>\n",
       "      <td>5</td>\n",
       "      <td>49.44</td>\n",
       "      <td>0.000030</td>\n",
       "    </tr>\n",
       "    <tr>\n",
       "      <th>...</th>\n",
       "      <td>...</td>\n",
       "      <td>...</td>\n",
       "      <td>...</td>\n",
       "      <td>...</td>\n",
       "    </tr>\n",
       "    <tr>\n",
       "      <th>97</th>\n",
       "      <td>25.875131</td>\n",
       "      <td>5</td>\n",
       "      <td>30.81</td>\n",
       "      <td>0.000056</td>\n",
       "    </tr>\n",
       "    <tr>\n",
       "      <th>98</th>\n",
       "      <td>20.852340</td>\n",
       "      <td>5</td>\n",
       "      <td>30.60</td>\n",
       "      <td>0.000056</td>\n",
       "    </tr>\n",
       "    <tr>\n",
       "      <th>99</th>\n",
       "      <td>15.836157</td>\n",
       "      <td>5</td>\n",
       "      <td>30.39</td>\n",
       "      <td>0.000057</td>\n",
       "    </tr>\n",
       "    <tr>\n",
       "      <th>100</th>\n",
       "      <td>10.811716</td>\n",
       "      <td>5</td>\n",
       "      <td>30.19</td>\n",
       "      <td>0.000058</td>\n",
       "    </tr>\n",
       "    <tr>\n",
       "      <th>101</th>\n",
       "      <td>5.793980</td>\n",
       "      <td>5</td>\n",
       "      <td>29.98</td>\n",
       "      <td>0.000058</td>\n",
       "    </tr>\n",
       "  </tbody>\n",
       "</table>\n",
       "<p>102 rows × 4 columns</p>\n",
       "</div>"
      ],
      "text/plain": [
       "         Time_s  T_Wait_s  Temperature_C   Power_W\n",
       "0    512.882466         5          50.04  0.000028\n",
       "1    507.864933         5          50.05  0.000029\n",
       "2    502.841808         5          49.85  0.000028\n",
       "3    497.821248         5          49.65  0.000029\n",
       "4    492.796457         5          49.44  0.000030\n",
       "..          ...       ...            ...       ...\n",
       "97    25.875131         5          30.81  0.000056\n",
       "98    20.852340         5          30.60  0.000056\n",
       "99    15.836157         5          30.39  0.000057\n",
       "100   10.811716         5          30.19  0.000058\n",
       "101    5.793980         5          29.98  0.000058\n",
       "\n",
       "[102 rows x 4 columns]"
      ]
     },
     "execution_count": 172,
     "metadata": {},
     "output_type": "execute_result"
    }
   ],
   "source": [
    "meas_df"
   ]
  },
  {
   "cell_type": "code",
   "execution_count": 173,
   "id": "6587ec3e-6506-4726-98af-6c0e70fc9a86",
   "metadata": {
    "tags": []
   },
   "outputs": [
    {
     "data": {
      "text/plain": [
       "[<matplotlib.lines.Line2D at 0x1ab96e187d0>]"
      ]
     },
     "execution_count": 173,
     "metadata": {},
     "output_type": "execute_result"
    },
    {
     "data": {
      "image/png": "[encoded data removed]",
      "text/plain": [
       "<Figure size 640x480 with 1 Axes>"
      ]
     },
     "metadata": {},
     "output_type": "display_data"
    }
   ],
   "source": [
    "plt.plot(meas_df.Time_s,meas_df.Power_W)"
   ]
  },
  {
   "cell_type": "code",
   "execution_count": 174,
   "id": "40865958-48ae-4831-b4b8-7f49aa342ab9",
   "metadata": {
    "tags": []
   },
   "outputs": [],
   "source": [
    "meas_df.to_csv(r\"ETX_Ref.csv\")"
   ]
  },
  {
   "cell_type": "code",
   "execution_count": 198,
   "id": "1b65ad6d-c8f5-45ab-98d4-d5d5b8d8a0c4",
   "metadata": {
    "tags": []
   },
   "outputs": [],
   "source": [
    "tec_le.set_temperature(25)\n",
    "tec_le.set_output_off()"
   ]
  },
  {
   "cell_type": "code",
   "execution_count": 199,
   "id": "a43c02b2-8506-4dff-8cb6-2c8701f95998",
   "metadata": {
    "tags": []
   },
   "outputs": [],
   "source": [
    "osa.close()"
   ]
  },
  {
   "cell_type": "code",
   "execution_count": 200,
   "id": "61126991-7d93-4414-ba94-36ad96339944",
   "metadata": {
    "tags": []
   },
   "outputs": [],
   "source": [
    "tec_zeus.close()"
   ]
  },
  {
   "cell_type": "code",
   "execution_count": 201,
   "id": "cfdc0dd7-f994-4cb5-becc-8eafd285fec5",
   "metadata": {
    "tags": []
   },
   "outputs": [],
   "source": [
    "tec_le.close()"
   ]
  },
  {
   "cell_type": "code",
   "execution_count": 202,
   "id": "d88e0dd4-75b1-401f-9ef8-b6bb32ddadaf",
   "metadata": {
    "tags": []
   },
   "outputs": [],
   "source": [
    "pm.close()"
   ]
  },
  {
   "cell_type": "code",
   "execution_count": 203,
   "id": "010e223c-e8fa-42ab-9781-458d91ab29ed",
   "metadata": {
    "tags": []
   },
   "outputs": [],
   "source": [
    "ld.close()"
   ]
  },
  {
   "cell_type": "code",
   "execution_count": null,
   "id": "c54f8538-d3a7-45ef-947e-de70496a7973",
   "metadata": {},
   "outputs": [],
   "source": []
  }
 ],
 "metadata": {
  "kernelspec": {
   "display_name": "Python 3 (ipykernel)",
   "language": "python",
   "name": "python3"
  },
  "language_info": {
   "codemirror_mode": {
    "name": "ipython",
    "version": 3
   },
   "file_extension": ".py",
   "mimetype": "text/x-python",
   "name": "python",
   "nbconvert_exporter": "python",
   "pygments_lexer": "ipython3",
   "version": "3.11.4"
  }
 },
 "nbformat": 4,
 "nbformat_minor": 5
}
