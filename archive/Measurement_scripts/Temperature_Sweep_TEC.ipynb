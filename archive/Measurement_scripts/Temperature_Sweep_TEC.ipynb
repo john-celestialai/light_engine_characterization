{
 "cells": [
  {
   "cell_type": "markdown",
   "id": "ef411cad-8037-4a0e-a13f-90e59953515e",
   "metadata": {},
   "source": [
    "## Import Dependencies and Open Instrument Handles"
   ]
  },
  {
   "cell_type": "code",
   "execution_count": 17,
   "id": "f31cabd4-cb19-4125-932d-3f923cbeb3e2",
   "metadata": {
    "tags": []
   },
   "outputs": [],
   "source": [
    "import sys\n",
    "import os\n",
    "import time\n",
    "import pyvisa\n",
    "import pandas as pd\n",
    "import numpy as np\n",
    "import matplotlib.pyplot as plt\n",
    "from binascii import unhexlify\n",
    "import serial\n",
    "\n",
    "module_path = os.path.abspath(os.path.join('..'))\n",
    "if module_path not in sys.path:\n",
    "    sys.path.append(module_path+\"\\\\Drivers\")\n",
    "\n",
    "from Driver_TECSource_5240 import *"
   ]
  },
  {
   "cell_type": "code",
   "execution_count": 18,
   "id": "779d46df-23a3-437a-b3a1-ee6ba177d8db",
   "metadata": {
    "tags": []
   },
   "outputs": [],
   "source": [
    "rm = pyvisa.ResourceManager()\n",
    "\n",
    "tec = TECSource_5240()\n",
    "tec.open(rm)"
   ]
  },
  {
   "cell_type": "markdown",
   "id": "36984954-7b03-4462-8a90-f962374a220f",
   "metadata": {},
   "source": [
    "## Initialization"
   ]
  },
  {
   "cell_type": "code",
   "execution_count": 19,
   "id": "8e79e1a6-9f74-4b12-928f-29094bc6f3ed",
   "metadata": {
    "tags": []
   },
   "outputs": [],
   "source": [
    "T_Start = 23\n",
    "T_Stop = 50\n",
    "T_Step = 0.2\n",
    "t_wait = 5\n",
    "n = int((T_Stop-T_Start)/T_Step+1)"
   ]
  },
  {
   "cell_type": "markdown",
   "id": "c516a302-6561-4fd4-a6e2-264cad7de1f4",
   "metadata": {},
   "source": [
    "## Measurement Routine"
   ]
  },
  {
   "cell_type": "code",
   "execution_count": 24,
   "id": "22f94c27-4b3b-405a-a72d-dfbcb42857a6",
   "metadata": {
    "tags": []
   },
   "outputs": [],
   "source": [
    "meas_df = pd.DataFrame()\n",
    "t0 = time.time()\n",
    "for k in range(0,n+1,1):\n",
    "    if(T_Start+k*T_Step>47):\n",
    "        T_Set = 47\n",
    "    else:\n",
    "        T_Set = T_Start+k*T_Step\n",
    "    tec.set_temperature(T_Set)\n",
    "    time.sleep(t_wait)\n",
    "    T_read = tec.get_temperature()\n",
    "    t_meas = time.time()-t0\n",
    "    dict = {'Time_s':t_meas,'Temperature_C':T_read}\n",
    "    meas_df_temp = pd.DataFrame([dict])\n",
    "    data = [meas_df_temp, meas_df]\n",
    "    meas_df = pd.concat(data,ignore_index=True,sort=False)\n",
    "tec.set_temperature(23)"
   ]
  },
  {
   "cell_type": "markdown",
   "id": "57036dea-ddf1-4d40-a982-e4e319ff3fb8",
   "metadata": {},
   "source": [
    "## View, Plot and Save Data"
   ]
  },
  {
   "cell_type": "code",
   "execution_count": 25,
   "id": "bcb501f3-9c34-4776-b474-42fbf4150d3f",
   "metadata": {
    "tags": []
   },
   "outputs": [
    {
     "data": {
      "text/html": [
       "<div>\n",
       "<style scoped>\n",
       "    .dataframe tbody tr th:only-of-type {\n",
       "        vertical-align: middle;\n",
       "    }\n",
       "\n",
       "    .dataframe tbody tr th {\n",
       "        vertical-align: top;\n",
       "    }\n",
       "\n",
       "    .dataframe thead th {\n",
       "        text-align: right;\n",
       "    }\n",
       "</style>\n",
       "<table border=\"1\" class=\"dataframe\">\n",
       "  <thead>\n",
       "    <tr style=\"text-align: right;\">\n",
       "      <th></th>\n",
       "      <th>Time_s</th>\n",
       "      <th>Temperature_C</th>\n",
       "    </tr>\n",
       "  </thead>\n",
       "  <tbody>\n",
       "    <tr>\n",
       "      <th>0</th>\n",
       "      <td>687.518770</td>\n",
       "      <td>47.00</td>\n",
       "    </tr>\n",
       "    <tr>\n",
       "      <th>1</th>\n",
       "      <td>682.500467</td>\n",
       "      <td>47.00</td>\n",
       "    </tr>\n",
       "    <tr>\n",
       "      <th>2</th>\n",
       "      <td>677.482163</td>\n",
       "      <td>47.00</td>\n",
       "    </tr>\n",
       "    <tr>\n",
       "      <th>3</th>\n",
       "      <td>672.463974</td>\n",
       "      <td>47.00</td>\n",
       "    </tr>\n",
       "    <tr>\n",
       "      <th>4</th>\n",
       "      <td>667.445774</td>\n",
       "      <td>47.00</td>\n",
       "    </tr>\n",
       "    <tr>\n",
       "      <th>...</th>\n",
       "      <td>...</td>\n",
       "      <td>...</td>\n",
       "    </tr>\n",
       "    <tr>\n",
       "      <th>132</th>\n",
       "      <td>25.091445</td>\n",
       "      <td>23.89</td>\n",
       "    </tr>\n",
       "    <tr>\n",
       "      <th>133</th>\n",
       "      <td>20.072460</td>\n",
       "      <td>23.68</td>\n",
       "    </tr>\n",
       "    <tr>\n",
       "      <th>134</th>\n",
       "      <td>15.050479</td>\n",
       "      <td>23.47</td>\n",
       "    </tr>\n",
       "    <tr>\n",
       "      <th>135</th>\n",
       "      <td>10.035412</td>\n",
       "      <td>23.26</td>\n",
       "    </tr>\n",
       "    <tr>\n",
       "      <th>136</th>\n",
       "      <td>5.016537</td>\n",
       "      <td>23.00</td>\n",
       "    </tr>\n",
       "  </tbody>\n",
       "</table>\n",
       "<p>137 rows × 2 columns</p>\n",
       "</div>"
      ],
      "text/plain": [
       "         Time_s  Temperature_C\n",
       "0    687.518770          47.00\n",
       "1    682.500467          47.00\n",
       "2    677.482163          47.00\n",
       "3    672.463974          47.00\n",
       "4    667.445774          47.00\n",
       "..          ...            ...\n",
       "132   25.091445          23.89\n",
       "133   20.072460          23.68\n",
       "134   15.050479          23.47\n",
       "135   10.035412          23.26\n",
       "136    5.016537          23.00\n",
       "\n",
       "[137 rows x 2 columns]"
      ]
     },
     "execution_count": 25,
     "metadata": {},
     "output_type": "execute_result"
    }
   ],
   "source": [
    "meas_df"
   ]
  },
  {
   "cell_type": "code",
   "execution_count": 26,
   "id": "5c94b992-d360-4876-8e41-fb4a31c9a153",
   "metadata": {
    "tags": []
   },
   "outputs": [
    {
     "data": {
      "text/plain": [
       "[<matplotlib.lines.Line2D at 0x212cd4287d0>]"
      ]
     },
     "execution_count": 26,
     "metadata": {},
     "output_type": "execute_result"
    },
    {
     "data": {
      "image/png": "[encoded data removed]",
      "text/plain": [
       "<Figure size 640x480 with 1 Axes>"
      ]
     },
     "metadata": {},
     "output_type": "display_data"
    }
   ],
   "source": [
    "plt.plot(meas_df.Time_s,meas_df.Temperature_C)"
   ]
  },
  {
   "cell_type": "code",
   "execution_count": 27,
   "id": "280c7ee9-af5d-4320-a3fb-ba1c6c96905a",
   "metadata": {
    "tags": []
   },
   "outputs": [],
   "source": [
    "meas_df.to_csv(r\"TX-RX_Temp_Sweep_DC_2_run_2.csv\")"
   ]
  },
  {
   "cell_type": "markdown",
   "id": "ba732d9d-ccb9-41b2-8f2f-c874f93d0053",
   "metadata": {},
   "source": [
    "## Close Instrument Handles"
   ]
  },
  {
   "cell_type": "code",
   "execution_count": 29,
   "id": "540f6483-44c8-45f2-87f2-a2e4765f3515",
   "metadata": {
    "tags": []
   },
   "outputs": [],
   "source": [
    "tec.close()"
   ]
  },
  {
   "cell_type": "code",
   "execution_count": null,
   "id": "dd4acf36-0401-4a2a-9d60-e639ff3f910a",
   "metadata": {},
   "outputs": [],
   "source": []
  }
 ],
 "metadata": {
  "kernelspec": {
   "display_name": "Python 3 (ipykernel)",
   "language": "python",
   "name": "python3"
  },
  "language_info": {
   "codemirror_mode": {
    "name": "ipython",
    "version": 3
   },
   "file_extension": ".py",
   "mimetype": "text/x-python",
   "name": "python",
   "nbconvert_exporter": "python",
   "pygments_lexer": "ipython3",
   "version": "3.11.4"
  }
 },
 "nbformat": 4,
 "nbformat_minor": 5
}
